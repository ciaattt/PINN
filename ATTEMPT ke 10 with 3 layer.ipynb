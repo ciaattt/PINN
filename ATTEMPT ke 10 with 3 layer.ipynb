{
 "cells": [
  {
   "cell_type": "code",
   "execution_count": null,
   "metadata": {},
   "outputs": [],
   "source": [
    "import matplotlib.pyplot as plt\n",
    "import tensorflow as tf\n",
    "import random"
   ]
  },
  {
   "cell_type": "code",
   "execution_count": null,
   "metadata": {},
   "outputs": [],
   "source": [
    "#report constants\n",
    "a = 4\n",
    "c = 2\n",
    "w1 = 3\n",
    "b2 = 4\n",
    "w2 = 6\n",
    "b3 = 7"
   ]
  },
  {
   "cell_type": "code",
   "execution_count": null,
   "metadata": {},
   "outputs": [],
   "source": [
    "def y (a,c):\n",
    "\n",
    "    y_in = []\n",
    "    x_in = [0,1,2,3,4,5]\n",
    "\n",
    "    for x in x_in :\n",
    "        y_in.append (\n",
    "            x * a + c\n",
    "        )\n",
    "    return x_in, y_in\n",
    "x_in, y_in = y (a,c)\n",
    "print (y_in)\n",
    "print (x_in)\n"
   ]
  },
  {
   "cell_type": "code",
   "execution_count": null,
   "metadata": {},
   "outputs": [],
   "source": [
    "def Y_1 (w1,b2):\n",
    "\n",
    "    Y_in = []\n",
    "    x_in \n",
    "\n",
    "    for x in x_in :\n",
    "        Y_in.append (\n",
    "            x * w1 + b2\n",
    "        )\n",
    "    return Y_in\n",
    "Y_in = Y_1 (w1,b2)\n",
    "print (Y_in)\n",
    "print (x_in)"
   ]
  },
  {
   "cell_type": "code",
   "execution_count": null,
   "metadata": {},
   "outputs": [],
   "source": [
    "def Y_2 (w2,b3):\n",
    "\n",
    "    Y_in \n",
    "    Y_in2 = []\n",
    "\n",
    "    for x in Y_in:\n",
    "        Y_in2.append (\n",
    "            w2 * x + b3\n",
    "        )\n",
    "    return Y_in, Y_in2\n",
    "Y_in, Y_in2 = Y_2 (w2,b3)\n",
    "print (Y_in2)"
   ]
  },
  {
   "cell_type": "code",
   "execution_count": null,
   "metadata": {},
   "outputs": [],
   "source": [
    "#besok coba turunin ulang semuanya!!\n",
    "def dLdW2 (w2, b3):\n",
    "\n",
    "    N = 6\n",
    "    sumdw2 = 0\n",
    "    for N in range (N):\n",
    "        sumdw2 += (-2/6)*(y_in [N-1] - w2 * (Y_in [N-1])-b3 )* (Y_in [N-1])\n",
    "    return sumdw2\n",
    "sumdw2 = dLdW2 (w2, b3)\n",
    "print (sumdw2)\n"
   ]
  },
  {
   "cell_type": "code",
   "execution_count": null,
   "metadata": {},
   "outputs": [],
   "source": [
    "def dLdB2 (w2, b3):\n",
    "\n",
    "    N = 6\n",
    "    sumdb2 = 0\n",
    "    for N in range (N):\n",
    "        sumdb2 += (-2/6)*(y_in [N-1] - w2 * Y_in [N-1] - b3) \n",
    "    return sumdb2\n",
    "sumdb2 = dLdB2 (w2, b3)\n",
    "print (sumdb2)\n"
   ]
  },
  {
   "cell_type": "code",
   "execution_count": null,
   "metadata": {},
   "outputs": [],
   "source": [
    "def dLdW1 (w2,b3):\n",
    "\n",
    "    N = 6\n",
    "    sumdw1 = 0\n",
    "    for N in range (N):\n",
    "        sumdw1 += (-2/6)*(y_in[N-1] - w2 * Y_in [N-1] - b3)*(w2)*(x_in [N-1])\n",
    "    return sumdw1\n",
    "sumdw1 = dLdW1 (w2,b3)\n",
    "print (sumdw1)"
   ]
  },
  {
   "cell_type": "code",
   "execution_count": null,
   "metadata": {},
   "outputs": [],
   "source": [
    "def dLdB1 (w2,b3):\n",
    "\n",
    "    N = 6\n",
    "    sumdb1 = 0\n",
    "    for N in range (N):\n",
    "        sumdb1 += (-2/6)*(y_in[N-1] - w2 * Y_in [N-1] - b3)*(w2)\n",
    "    return sumdb1\n",
    "sumdb1 = dLdB1 (w2,b3)\n",
    "print (sumdb1)\n"
   ]
  },
  {
   "cell_type": "code",
   "execution_count": null,
   "metadata": {},
   "outputs": [],
   "source": [
    "def w_2update (w2,b3):\n",
    "\n",
    "    epochs = 10000\n",
    "    delta = 0.001\n",
    "    \n",
    "    for epochs in range (epochs):\n",
    "        w_2 = w2 - delta * dLdW2 (w2,b3)\n",
    "        b_3 = b3 - delta * dLdB2 (w2,b3)\n",
    "        w1 = w_2\n",
    "        b2 = b_3\n",
    "        w_1 = w1 - delta * dLdW1 (w1,b2)\n",
    "        b_2 = b2 - delta * dLdB1 (w1,b2)\n",
    "        w2 = w_1\n",
    "        b3 = b_2   \n",
    "        print (w_1)\n",
    "    return epochs, b_2, w_1\n",
    "epochs, b_2, w_1 = w_2update (w2, b3)"
   ]
  },
  {
   "cell_type": "code",
   "execution_count": null,
   "metadata": {},
   "outputs": [],
   "source": [
    "plt.title (\"w to epochs\")\n",
    "plt.scatter (epochs,w_2, label = \"why\")"
   ]
  }
 ],
 "metadata": {
  "kernelspec": {
   "display_name": "Python 3",
   "language": "python",
   "name": "python3"
  },
  "language_info": {
   "codemirror_mode": {
    "name": "ipython",
    "version": 3
   },
   "file_extension": ".py",
   "mimetype": "text/x-python",
   "name": "python",
   "nbconvert_exporter": "python",
   "pygments_lexer": "ipython3",
   "version": "3.8.3"
  },
  "orig_nbformat": 4
 },
 "nbformat": 4,
 "nbformat_minor": 2
}
