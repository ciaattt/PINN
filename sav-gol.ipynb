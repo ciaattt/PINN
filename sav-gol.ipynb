{
 "cells": [
  {
   "cell_type": "code",
   "execution_count": null,
   "metadata": {},
   "outputs": [],
   "source": [
    "y1 = data_y['Cd'].to_numpy()\n",
    "y2 = data_y['Cl'].to_numpy()\n",
    "y3 = data_y['Cm'].to_numpy()\n",
    "\n",
    "y1 = savgol_filter(y1,len(data_y), 50)\n",
    "y2 = savgol_filter(y2,len(data_y), 50)\n",
    "y3 = savgol_filter(y3,len(data_y), 50)\n",
    "\n",
    "data_y = {'Cd':y1,\n",
    "          'Cl':y2,\n",
    "          'Cm':y3}\n",
    "\n",
    "data_y = pd.DataFrame(data_y)\n"
   ]
  }
 ],
 "metadata": {
  "language_info": {
   "name": "python"
  }
 },
 "nbformat": 4,
 "nbformat_minor": 2
}
