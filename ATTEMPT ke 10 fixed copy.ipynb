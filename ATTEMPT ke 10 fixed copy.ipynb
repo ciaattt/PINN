{
 "cells": [
  {
   "cell_type": "code",
   "execution_count": null,
   "metadata": {},
   "outputs": [
    {
     "ename": "",
     "evalue": "",
     "output_type": "error",
     "traceback": [
      "\u001b[1;31mRunning cells with '.venv (Python 3.8.3)' requires the ipykernel package.\n",
      "\u001b[1;31mRun the following command to install 'ipykernel' into the Python environment. \n",
      "\u001b[1;31mCommand: 'c:/Python_Program/.venv/Scripts/python.exe -m pip install ipykernel -U --force-reinstall'"
     ]
    }
   ],
   "source": [
    "import matplotlib.pyplot as plt\n",
    "import tensorflow as tf\n",
    "from numpy.random import rand\n",
    "from math import sqrt\n",
    "import random"
   ]
  },
  {
   "cell_type": "code",
   "execution_count": null,
   "metadata": {},
   "outputs": [],
   "source": [
    "\n",
    "\n"
   ]
  },
  {
   "cell_type": "code",
   "execution_count": null,
   "metadata": {},
   "outputs": [],
   "source": [
    "#report constants\n",
    "a = 4\n",
    "c = 2\n",
    "iteration = 1000"
   ]
  },
  {
   "cell_type": "code",
   "execution_count": null,
   "metadata": {},
   "outputs": [],
   "source": [
    "def x(i):\n",
    "\n",
    "    x_in = []\n",
    "    x0 = 0\n",
    "\n",
    "    for i in range (i):\n",
    "        x_in.append (\n",
    "            x0 + i\n",
    "        )\n",
    "    return x_in\n",
    "x_in = x(18)\n",
    "\n",
    "K = len (x_in)\n",
    "print (K)"
   ]
  },
  {
   "cell_type": "code",
   "execution_count": null,
   "metadata": {},
   "outputs": [],
   "source": [
    "def xavier_init(K):\n",
    "\n",
    "    lower, upper = -(1/sqrt (K)), (1/sqrt (K))\n",
    "    scaling_factor = rand (1000)\n",
    "    scaling = lower  + scaling_factor * (upper-lower)\n",
    "    l1 = scaling.min()\n",
    "    l2 = scaling.max()\n",
    "    return l1,l2\n",
    "l1,l2 = xavier_init(K)\n",
    "print (l1)\n",
    "print (l2)\n",
    "\n"
   ]
  },
  {
   "cell_type": "code",
   "execution_count": null,
   "metadata": {},
   "outputs": [],
   "source": [
    "w1 = random.uniform(l1,l2)\n",
    "b2 = random.uniform(l1,l2)\n",
    "w2 = random.uniform(l1,l2)\n",
    "b3 = random.uniform(l1,l2)"
   ]
  },
  {
   "cell_type": "code",
   "execution_count": null,
   "metadata": {},
   "outputs": [],
   "source": [
    "def y (a,c):\n",
    "\n",
    "    y_in = []\n",
    "    x_in \n",
    "\n",
    "    for x in x_in :\n",
    "        y_in.append (\n",
    "            x * a + c\n",
    "        )\n",
    "    return x_in, y_in\n",
    "x_in, y_in = y (a,c)\n",
    "print (y_in)\n",
    "print (x_in)\n"
   ]
  },
  {
   "cell_type": "code",
   "execution_count": null,
   "metadata": {},
   "outputs": [],
   "source": [
    "def Y_1 (w1,b2):\n",
    "\n",
    "    Y_in = []\n",
    "    x_in \n",
    "\n",
    "    for x in x_in :\n",
    "        Y_in.append (\n",
    "            x * w1 + b2\n",
    "        )\n",
    "    return Y_in\n",
    "Y_in = Y_1 (w1,b2)\n",
    "print (Y_in)\n",
    "print (x_in)"
   ]
  },
  {
   "cell_type": "code",
   "execution_count": null,
   "metadata": {},
   "outputs": [],
   "source": [
    "def Y_2 (w2,b3):\n",
    "\n",
    "    Y_in \n",
    "    Y_in2 = []\n",
    "\n",
    "    for x in Y_in:\n",
    "        Y_in2.append (\n",
    "            w2 * x + b3\n",
    "        )\n",
    "    return Y_in, Y_in2\n",
    "Y_in, Y_in2 = Y_2 (w2,b3)\n",
    "print (Y_in2)"
   ]
  },
  {
   "cell_type": "code",
   "execution_count": null,
   "metadata": {},
   "outputs": [],
   "source": [
    "def dLdW2 (w1, w2, b2, b3):\n",
    "\n",
    "    N = len (x_in)\n",
    "    sumdw2 = 0\n",
    "    for N in range (N):\n",
    "        sumdw2 += (-2/K)*(y_in [N-1] - w2 * (w1*x_in[N-1]+b2)-b3 )*(w1*x_in[N-1]+b2)\n",
    "    return sumdw2\n",
    "sumdw2 = dLdW2 (w1, w2, b2, b3)\n",
    "print (sumdw2)\n"
   ]
  },
  {
   "cell_type": "code",
   "execution_count": null,
   "metadata": {},
   "outputs": [],
   "source": [
    "def dLdB2 (w1, w2, b2, b3):\n",
    "\n",
    "    N = len (x_in)\n",
    "    sumdb2 = 0\n",
    "    for N in range (N):\n",
    "        sumdb2 += (-2/K)*(y_in [N-1] - w2 *(w1*x_in[N-1]+b2) - b3) \n",
    "    return sumdb2\n",
    "sumdb2 = dLdB2 (w1, w2, b2, b3)\n",
    "print (sumdb2)\n"
   ]
  },
  {
   "cell_type": "code",
   "execution_count": null,
   "metadata": {},
   "outputs": [],
   "source": [
    "def dLdW1 (w1, w2, b2, b3):\n",
    "\n",
    "    N = len (x_in)\n",
    "    sumdw1 = 0\n",
    "    for N in range (N):\n",
    "        sumdw1 += (-2/K)*(y_in[N-1] - w2 * (w1*x_in[N-1]+b2) - b3)*(w2)*(x_in [N-1])\n",
    "    return sumdw1\n",
    "sumdw1 = dLdW1 (w1, w2, b2, b3)\n",
    "print (sumdw1)"
   ]
  },
  {
   "cell_type": "code",
   "execution_count": null,
   "metadata": {},
   "outputs": [],
   "source": [
    "def dLdB1 (w1, w2, b2, b3):\n",
    "\n",
    "    N = len (x_in)\n",
    "    sumdb1 = 0\n",
    "    for N in range (N):\n",
    "        sumdb1 += (-2/K)*(y_in[N-1] - w2 * (w1*x_in[N-1]+b2) - b3)*(w2)\n",
    "    return sumdb1\n",
    "sumdb1 = dLdB1 (w1, w2, b2, b3)\n",
    "print (sumdb1)\n"
   ]
  },
  {
   "cell_type": "code",
   "execution_count": null,
   "metadata": {},
   "outputs": [],
   "source": [
    "def MSE (w1, w2, b2, b3):\n",
    "\n",
    "    N = len (x_in)\n",
    "    summse = 0\n",
    "    for N in range (N):\n",
    "        summse += (1/K)*(y_in[N-1]-(w2 *(w1*x_in[N-1]+b2) + b3))\n",
    "    return summse\n",
    "summse = MSE (w1, w2, b2, b3)\n",
    "print (summse)"
   ]
  },
  {
   "cell_type": "code",
   "execution_count": null,
   "metadata": {},
   "outputs": [],
   "source": [
    "w_1t_data = []\n",
    "b_2t_data = []\n",
    "\n",
    "def w_2update (w1, w2, b2, b3):\n",
    "    \n",
    "    epochs = iteration\n",
    "    delta = 0.001\n",
    "    \n",
    "    w2_data = []\n",
    "    b3_data = []\n",
    "    w1_data = []\n",
    "    b2_data = []\n",
    "    loss_data = []\n",
    "    for epochs in range (epochs):\n",
    "\n",
    "    \n",
    "        w_2 = w2 - delta*dLdW2 (w1,w2,b2,b3)\n",
    "        b_3 = b3 - delta*dLdB2 (w1,w2,b2,b3)\n",
    "        w_1 = w1 - delta*dLdW1 (w1,w2,b2,b3)\n",
    "        b_2 = b2 - delta*dLdB1 (w1,w2,b2,b3) \n",
    "\n",
    "        w2 = w_2\n",
    "        b3 = b_3        \n",
    "        w1 = w_1\n",
    "        b2 = b_2\n",
    "        w = w_2*w_1\n",
    "        b = w_2*b_2+b_3\n",
    "        loss = MSE (w1, w2, b2, b3)\n",
    "       \n",
    "        w2_data.append(w_2)\n",
    "        b3_data.append(b_3)\n",
    "        w1_data.append(w_1)\n",
    "        b2_data.append(b_2)\n",
    "        loss_data.append(loss)\n",
    "        #print (f\"w_1t : {w_1t:.2f} | b_2t : {b_2t:.2f}\")\n",
    "        if epochs % 50 == 0:\n",
    "            fig, ax = plt.subplots(1,6, figsize=(20,5), dpi=150)\n",
    "            ax[0].plot(loss_data)\n",
    "            ax[1].plot(w2_data)\n",
    "            ax[2].plot(b3_data)\n",
    "            ax[3].plot(w1_data)\n",
    "            ax[4].plot(b2_data)\n",
    "            info = f'''\n",
    "                loss : {loss:.2f}  | w2 : {w_2:.2f}  | w1 : {w_1:.2f}  | w : {w:.2f}  |  b : {b:.2f}\n",
    "            '''\n",
    "            print(info)\n",
    "            plt.title(info)\n",
    "            plt.show()\n",
    "        \n",
    "        w_1t_data.append(w_1)\n",
    "        b_2t_data.append(b_2)\n",
    "       \n",
    "        \n",
    "        \n",
    "\n",
    "    return epochs, b_2, w_1\n",
    "\n",
    "epochs, b_2, w_1 = w_2update (w1, w2, b2, b3)\n"
   ]
  },
  {
   "cell_type": "code",
   "execution_count": null,
   "metadata": {},
   "outputs": [],
   "source": [
    "plt.title (\"w to epochs\")\n",
    "plt.scatter (epochs,w_1t, label = \"why\")\n",
    "\n"
   ]
  }
 ],
 "metadata": {
  "kernelspec": {
   "display_name": "Python 3",
   "language": "python",
   "name": "python3"
  },
  "language_info": {
   "codemirror_mode": {
    "name": "ipython",
    "version": 3
   },
   "file_extension": ".py",
   "mimetype": "text/x-python",
   "name": "python",
   "nbconvert_exporter": "python",
   "pygments_lexer": "ipython3",
   "version": "3.8.8"
  },
  "orig_nbformat": 4
 },
 "nbformat": 4,
 "nbformat_minor": 2
}
