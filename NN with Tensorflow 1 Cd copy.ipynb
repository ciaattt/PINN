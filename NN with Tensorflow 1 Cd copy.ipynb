{
 "cells": [
  {
   "cell_type": "code",
   "execution_count": 2,
   "metadata": {},
   "outputs": [],
   "source": [
    "import tensorflow as tf\n",
    "from tensorflow import keras\n",
    "import matplotlib.pyplot as plt\n",
    "import numpy as np\n",
    "import pandas as pd\n",
    "from sklearn.metrics import mean_absolute_error,mean_squared_error,explained_variance_score,r2_score"
   ]
  },
  {
   "cell_type": "code",
   "execution_count": 3,
   "metadata": {},
   "outputs": [
    {
     "data": {
      "text/html": [
       "<div>\n",
       "<style scoped>\n",
       "    .dataframe tbody tr th:only-of-type {\n",
       "        vertical-align: middle;\n",
       "    }\n",
       "\n",
       "    .dataframe tbody tr th {\n",
       "        vertical-align: top;\n",
       "    }\n",
       "\n",
       "    .dataframe thead th {\n",
       "        text-align: right;\n",
       "    }\n",
       "</style>\n",
       "<table border=\"1\" class=\"dataframe\">\n",
       "  <thead>\n",
       "    <tr style=\"text-align: right;\">\n",
       "      <th></th>\n",
       "      <th>aoa (deg)</th>\n",
       "      <th>pitch (deg)</th>\n",
       "      <th>pitch speed (deg/s)</th>\n",
       "      <th>true speed (m/s)</th>\n",
       "      <th>x acceleration (m/s2)</th>\n",
       "      <th>z acceleration (m/s2)</th>\n",
       "      <th>engine inclinataion (deg)</th>\n",
       "    </tr>\n",
       "  </thead>\n",
       "  <tbody>\n",
       "    <tr>\n",
       "      <th>0</th>\n",
       "      <td>1.978644</td>\n",
       "      <td>1.994105</td>\n",
       "      <td>0.009835</td>\n",
       "      <td>50.741865</td>\n",
       "      <td>1.053801</td>\n",
       "      <td>-7.403692</td>\n",
       "      <td>5.139738</td>\n",
       "    </tr>\n",
       "    <tr>\n",
       "      <th>1</th>\n",
       "      <td>1.978343</td>\n",
       "      <td>1.994686</td>\n",
       "      <td>0.009787</td>\n",
       "      <td>50.742590</td>\n",
       "      <td>1.054149</td>\n",
       "      <td>-7.405721</td>\n",
       "      <td>5.139129</td>\n",
       "    </tr>\n",
       "    <tr>\n",
       "      <th>2</th>\n",
       "      <td>1.978041</td>\n",
       "      <td>1.995267</td>\n",
       "      <td>0.009738</td>\n",
       "      <td>50.743315</td>\n",
       "      <td>1.054484</td>\n",
       "      <td>-7.407809</td>\n",
       "      <td>5.138521</td>\n",
       "    </tr>\n",
       "    <tr>\n",
       "      <th>3</th>\n",
       "      <td>1.977740</td>\n",
       "      <td>1.995847</td>\n",
       "      <td>0.009690</td>\n",
       "      <td>50.744040</td>\n",
       "      <td>1.054807</td>\n",
       "      <td>-7.409959</td>\n",
       "      <td>5.137912</td>\n",
       "    </tr>\n",
       "    <tr>\n",
       "      <th>4</th>\n",
       "      <td>1.977439</td>\n",
       "      <td>1.996428</td>\n",
       "      <td>0.009642</td>\n",
       "      <td>50.744765</td>\n",
       "      <td>1.055118</td>\n",
       "      <td>-7.412167</td>\n",
       "      <td>5.137303</td>\n",
       "    </tr>\n",
       "    <tr>\n",
       "      <th>...</th>\n",
       "      <td>...</td>\n",
       "      <td>...</td>\n",
       "      <td>...</td>\n",
       "      <td>...</td>\n",
       "      <td>...</td>\n",
       "      <td>...</td>\n",
       "      <td>...</td>\n",
       "    </tr>\n",
       "    <tr>\n",
       "      <th>99995</th>\n",
       "      <td>2.391689</td>\n",
       "      <td>2.924688</td>\n",
       "      <td>-0.012253</td>\n",
       "      <td>50.285324</td>\n",
       "      <td>0.749623</td>\n",
       "      <td>-9.715756</td>\n",
       "      <td>5.044085</td>\n",
       "    </tr>\n",
       "    <tr>\n",
       "      <th>99996</th>\n",
       "      <td>2.391753</td>\n",
       "      <td>2.924688</td>\n",
       "      <td>-0.012253</td>\n",
       "      <td>50.285324</td>\n",
       "      <td>0.749756</td>\n",
       "      <td>-9.716056</td>\n",
       "      <td>5.044143</td>\n",
       "    </tr>\n",
       "    <tr>\n",
       "      <th>99997</th>\n",
       "      <td>2.391817</td>\n",
       "      <td>2.924688</td>\n",
       "      <td>-0.012253</td>\n",
       "      <td>50.285324</td>\n",
       "      <td>0.749889</td>\n",
       "      <td>-9.716355</td>\n",
       "      <td>5.044201</td>\n",
       "    </tr>\n",
       "    <tr>\n",
       "      <th>99998</th>\n",
       "      <td>2.391882</td>\n",
       "      <td>2.924688</td>\n",
       "      <td>-0.012253</td>\n",
       "      <td>50.285324</td>\n",
       "      <td>0.750021</td>\n",
       "      <td>-9.716652</td>\n",
       "      <td>5.044262</td>\n",
       "    </tr>\n",
       "    <tr>\n",
       "      <th>99999</th>\n",
       "      <td>2.391946</td>\n",
       "      <td>2.924688</td>\n",
       "      <td>-0.012253</td>\n",
       "      <td>50.285324</td>\n",
       "      <td>0.750154</td>\n",
       "      <td>-9.716947</td>\n",
       "      <td>5.044323</td>\n",
       "    </tr>\n",
       "  </tbody>\n",
       "</table>\n",
       "<p>100000 rows × 7 columns</p>\n",
       "</div>"
      ],
      "text/plain": [
       "       aoa (deg)  pitch (deg)  pitch speed (deg/s)  true speed (m/s)  \\\n",
       "0       1.978644     1.994105             0.009835         50.741865   \n",
       "1       1.978343     1.994686             0.009787         50.742590   \n",
       "2       1.978041     1.995267             0.009738         50.743315   \n",
       "3       1.977740     1.995847             0.009690         50.744040   \n",
       "4       1.977439     1.996428             0.009642         50.744765   \n",
       "...          ...          ...                  ...               ...   \n",
       "99995   2.391689     2.924688            -0.012253         50.285324   \n",
       "99996   2.391753     2.924688            -0.012253         50.285324   \n",
       "99997   2.391817     2.924688            -0.012253         50.285324   \n",
       "99998   2.391882     2.924688            -0.012253         50.285324   \n",
       "99999   2.391946     2.924688            -0.012253         50.285324   \n",
       "\n",
       "       x acceleration (m/s2)  z acceleration (m/s2)  engine inclinataion (deg)  \n",
       "0                   1.053801              -7.403692                   5.139738  \n",
       "1                   1.054149              -7.405721                   5.139129  \n",
       "2                   1.054484              -7.407809                   5.138521  \n",
       "3                   1.054807              -7.409959                   5.137912  \n",
       "4                   1.055118              -7.412167                   5.137303  \n",
       "...                      ...                    ...                        ...  \n",
       "99995               0.749623              -9.715756                   5.044085  \n",
       "99996               0.749756              -9.716056                   5.044143  \n",
       "99997               0.749889              -9.716355                   5.044201  \n",
       "99998               0.750021              -9.716652                   5.044262  \n",
       "99999               0.750154              -9.716947                   5.044323  \n",
       "\n",
       "[100000 rows x 7 columns]"
      ]
     },
     "execution_count": 3,
     "metadata": {},
     "output_type": "execute_result"
    }
   ],
   "source": [
    "FLT_1 = pd.read_excel('FLT 1 datasets.xlsx')\n",
    "a = FLT_1.drop(columns='t(s)')\n",
    "a"
   ]
  },
  {
   "cell_type": "code",
   "execution_count": 4,
   "metadata": {},
   "outputs": [
    {
     "data": {
      "text/plain": [
       "0        50.741865\n",
       "1        50.742590\n",
       "2        50.743315\n",
       "3        50.744040\n",
       "4        50.744765\n",
       "           ...    \n",
       "99995    50.285324\n",
       "99996    50.285324\n",
       "99997    50.285324\n",
       "99998    50.285324\n",
       "99999    50.285324\n",
       "Name: true speed (m/s), Length: 100000, dtype: float64"
      ]
     },
     "execution_count": 4,
     "metadata": {},
     "output_type": "execute_result"
    }
   ],
   "source": [
    "data = a['true speed (m/s)']\n",
    "data"
   ]
  },
  {
   "cell_type": "code",
   "execution_count": 6,
   "metadata": {},
   "outputs": [
    {
     "data": {
      "text/plain": [
       "100000"
      ]
     },
     "execution_count": 6,
     "metadata": {},
     "output_type": "execute_result"
    }
   ],
   "source": [
    "len(data)"
   ]
  },
  {
   "cell_type": "code",
   "execution_count": 5,
   "metadata": {},
   "outputs": [],
   "source": [
    "x = data[0:(len(data)-1)].to_numpy()\n",
    "y = data[1:len(data)].to_numpy()\n"
   ]
  },
  {
   "cell_type": "code",
   "execution_count": 8,
   "metadata": {},
   "outputs": [
    {
     "data": {
      "text/plain": [
       "(99999,)"
      ]
     },
     "execution_count": 8,
     "metadata": {},
     "output_type": "execute_result"
    }
   ],
   "source": [
    "x.shape"
   ]
  },
  {
   "cell_type": "code",
   "execution_count": 9,
   "metadata": {},
   "outputs": [
    {
     "data": {
      "text/plain": [
       "(99999,)"
      ]
     },
     "execution_count": 9,
     "metadata": {},
     "output_type": "execute_result"
    }
   ],
   "source": [
    "y.shape\n"
   ]
  },
  {
   "cell_type": "code",
   "execution_count": 10,
   "metadata": {},
   "outputs": [
    {
     "data": {
      "text/plain": [
       "array([50.74186482, 50.74258986, 50.7433149 , ..., 50.28532398,\n",
       "       50.28532393, 50.28532389])"
      ]
     },
     "execution_count": 10,
     "metadata": {},
     "output_type": "execute_result"
    }
   ],
   "source": [
    "x"
   ]
  },
  {
   "cell_type": "code",
   "execution_count": 11,
   "metadata": {},
   "outputs": [
    {
     "data": {
      "text/plain": [
       "array([50.74258986, 50.7433149 , 50.74403992, ..., 50.28532393,\n",
       "       50.28532389, 50.28532385])"
      ]
     },
     "execution_count": 11,
     "metadata": {},
     "output_type": "execute_result"
    }
   ],
   "source": [
    "y"
   ]
  },
  {
   "cell_type": "code",
   "execution_count": 12,
   "metadata": {},
   "outputs": [
    {
     "data": {
      "text/plain": [
       "array([50.74186482, 50.74258986, 50.7433149 , ..., 50.28532398,\n",
       "       50.28532393, 50.28532389])"
      ]
     },
     "execution_count": 12,
     "metadata": {},
     "output_type": "execute_result"
    }
   ],
   "source": [
    "np.squeeze(np.squeeze(x))"
   ]
  },
  {
   "cell_type": "code",
   "execution_count": 13,
   "metadata": {},
   "outputs": [
    {
     "data": {
      "text/html": [
       "<div>\n",
       "<style scoped>\n",
       "    .dataframe tbody tr th:only-of-type {\n",
       "        vertical-align: middle;\n",
       "    }\n",
       "\n",
       "    .dataframe tbody tr th {\n",
       "        vertical-align: top;\n",
       "    }\n",
       "\n",
       "    .dataframe thead th {\n",
       "        text-align: right;\n",
       "    }\n",
       "</style>\n",
       "<table border=\"1\" class=\"dataframe\">\n",
       "  <thead>\n",
       "    <tr style=\"text-align: right;\">\n",
       "      <th></th>\n",
       "      <th>t(s)</th>\n",
       "      <th>aoa (deg)</th>\n",
       "      <th>pitch (deg)</th>\n",
       "      <th>pitch speed (deg/s)</th>\n",
       "      <th>true speed (m/s)</th>\n",
       "      <th>Cd</th>\n",
       "      <th>Cl</th>\n",
       "      <th>Cm</th>\n",
       "    </tr>\n",
       "  </thead>\n",
       "  <tbody>\n",
       "    <tr>\n",
       "      <th>0</th>\n",
       "      <td>0.00000</td>\n",
       "      <td>1.978644</td>\n",
       "      <td>1.994105</td>\n",
       "      <td>0.009835</td>\n",
       "      <td>50.741865</td>\n",
       "      <td>0.050988</td>\n",
       "      <td>0.460989</td>\n",
       "      <td>0.001941</td>\n",
       "    </tr>\n",
       "    <tr>\n",
       "      <th>1</th>\n",
       "      <td>0.00012</td>\n",
       "      <td>1.978343</td>\n",
       "      <td>1.994686</td>\n",
       "      <td>0.009787</td>\n",
       "      <td>50.742590</td>\n",
       "      <td>0.050972</td>\n",
       "      <td>0.461021</td>\n",
       "      <td>0.001953</td>\n",
       "    </tr>\n",
       "    <tr>\n",
       "      <th>2</th>\n",
       "      <td>0.00024</td>\n",
       "      <td>1.978041</td>\n",
       "      <td>1.995267</td>\n",
       "      <td>0.009738</td>\n",
       "      <td>50.743315</td>\n",
       "      <td>0.050956</td>\n",
       "      <td>0.461052</td>\n",
       "      <td>0.001966</td>\n",
       "    </tr>\n",
       "    <tr>\n",
       "      <th>3</th>\n",
       "      <td>0.00036</td>\n",
       "      <td>1.977740</td>\n",
       "      <td>1.995847</td>\n",
       "      <td>0.009690</td>\n",
       "      <td>50.744040</td>\n",
       "      <td>0.050941</td>\n",
       "      <td>0.461083</td>\n",
       "      <td>0.001978</td>\n",
       "    </tr>\n",
       "    <tr>\n",
       "      <th>4</th>\n",
       "      <td>0.00048</td>\n",
       "      <td>1.977439</td>\n",
       "      <td>1.996428</td>\n",
       "      <td>0.009642</td>\n",
       "      <td>50.744765</td>\n",
       "      <td>0.050925</td>\n",
       "      <td>0.461115</td>\n",
       "      <td>0.001990</td>\n",
       "    </tr>\n",
       "    <tr>\n",
       "      <th>...</th>\n",
       "      <td>...</td>\n",
       "      <td>...</td>\n",
       "      <td>...</td>\n",
       "      <td>...</td>\n",
       "      <td>...</td>\n",
       "      <td>...</td>\n",
       "      <td>...</td>\n",
       "      <td>...</td>\n",
       "    </tr>\n",
       "    <tr>\n",
       "      <th>99994</th>\n",
       "      <td>11.99928</td>\n",
       "      <td>2.391625</td>\n",
       "      <td>2.924688</td>\n",
       "      <td>-0.012253</td>\n",
       "      <td>50.285324</td>\n",
       "      <td>0.043427</td>\n",
       "      <td>0.417237</td>\n",
       "      <td>-0.004509</td>\n",
       "    </tr>\n",
       "    <tr>\n",
       "      <th>99995</th>\n",
       "      <td>11.99940</td>\n",
       "      <td>2.391689</td>\n",
       "      <td>2.924688</td>\n",
       "      <td>-0.012253</td>\n",
       "      <td>50.285324</td>\n",
       "      <td>0.043411</td>\n",
       "      <td>0.416994</td>\n",
       "      <td>-0.004519</td>\n",
       "    </tr>\n",
       "    <tr>\n",
       "      <th>99996</th>\n",
       "      <td>11.99952</td>\n",
       "      <td>2.391753</td>\n",
       "      <td>2.924688</td>\n",
       "      <td>-0.012253</td>\n",
       "      <td>50.285324</td>\n",
       "      <td>0.043395</td>\n",
       "      <td>0.416750</td>\n",
       "      <td>-0.004529</td>\n",
       "    </tr>\n",
       "    <tr>\n",
       "      <th>99997</th>\n",
       "      <td>11.99964</td>\n",
       "      <td>2.391817</td>\n",
       "      <td>2.924688</td>\n",
       "      <td>-0.012253</td>\n",
       "      <td>50.285324</td>\n",
       "      <td>0.043379</td>\n",
       "      <td>0.416508</td>\n",
       "      <td>-0.004539</td>\n",
       "    </tr>\n",
       "    <tr>\n",
       "      <th>99998</th>\n",
       "      <td>11.99976</td>\n",
       "      <td>2.391882</td>\n",
       "      <td>2.924688</td>\n",
       "      <td>-0.012253</td>\n",
       "      <td>50.285324</td>\n",
       "      <td>0.043364</td>\n",
       "      <td>0.416266</td>\n",
       "      <td>-0.004549</td>\n",
       "    </tr>\n",
       "  </tbody>\n",
       "</table>\n",
       "<p>99999 rows × 8 columns</p>\n",
       "</div>"
      ],
      "text/plain": [
       "           t(s)  aoa (deg)  pitch (deg)  pitch speed (deg/s)  \\\n",
       "0       0.00000   1.978644     1.994105             0.009835   \n",
       "1       0.00012   1.978343     1.994686             0.009787   \n",
       "2       0.00024   1.978041     1.995267             0.009738   \n",
       "3       0.00036   1.977740     1.995847             0.009690   \n",
       "4       0.00048   1.977439     1.996428             0.009642   \n",
       "...         ...        ...          ...                  ...   \n",
       "99994  11.99928   2.391625     2.924688            -0.012253   \n",
       "99995  11.99940   2.391689     2.924688            -0.012253   \n",
       "99996  11.99952   2.391753     2.924688            -0.012253   \n",
       "99997  11.99964   2.391817     2.924688            -0.012253   \n",
       "99998  11.99976   2.391882     2.924688            -0.012253   \n",
       "\n",
       "       true speed (m/s)        Cd        Cl        Cm  \n",
       "0             50.741865  0.050988  0.460989  0.001941  \n",
       "1             50.742590  0.050972  0.461021  0.001953  \n",
       "2             50.743315  0.050956  0.461052  0.001966  \n",
       "3             50.744040  0.050941  0.461083  0.001978  \n",
       "4             50.744765  0.050925  0.461115  0.001990  \n",
       "...                 ...       ...       ...       ...  \n",
       "99994         50.285324  0.043427  0.417237 -0.004509  \n",
       "99995         50.285324  0.043411  0.416994 -0.004519  \n",
       "99996         50.285324  0.043395  0.416750 -0.004529  \n",
       "99997         50.285324  0.043379  0.416508 -0.004539  \n",
       "99998         50.285324  0.043364  0.416266 -0.004549  \n",
       "\n",
       "[99999 rows x 8 columns]"
      ]
     },
     "execution_count": 13,
     "metadata": {},
     "output_type": "execute_result"
    }
   ],
   "source": [
    "FLT_1[0:len(FLT_1)-1]"
   ]
  },
  {
   "cell_type": "code",
   "execution_count": null,
   "metadata": {},
   "outputs": [],
   "source": []
  },
  {
   "cell_type": "code",
   "execution_count": 7,
   "metadata": {},
   "outputs": [
    {
     "name": "stdout",
     "output_type": "stream",
     "text": [
      "Epoch 1/1000\n",
      "1000/1000 [==============================] - 3s 2ms/step - loss: 2563.0884 - Accuracy: 0.0000e+00\n",
      "Epoch 2/1000\n",
      "1000/1000 [==============================] - 1s 1ms/step - loss: 2512.9109 - Accuracy: 0.0000e+00\n",
      "Epoch 3/1000\n",
      "1000/1000 [==============================] - 1s 1ms/step - loss: 2463.3643 - Accuracy: 0.0000e+00\n",
      "Epoch 4/1000\n",
      "1000/1000 [==============================] - 2s 2ms/step - loss: 2414.3896 - Accuracy: 0.0000e+00\n",
      "Epoch 5/1000\n",
      "1000/1000 [==============================] - 2s 2ms/step - loss: 2365.9546 - Accuracy: 0.0000e+00\n",
      "Epoch 6/1000\n",
      "1000/1000 [==============================] - 2s 2ms/step - loss: 2318.0356 - Accuracy: 0.0000e+00\n",
      "Epoch 7/1000\n",
      "1000/1000 [==============================] - 1s 1ms/step - loss: 2270.6182 - Accuracy: 0.0000e+00\n",
      "Epoch 8/1000\n",
      "1000/1000 [==============================] - 2s 2ms/step - loss: 2223.7021 - Accuracy: 0.0000e+00\n",
      "Epoch 9/1000\n",
      "1000/1000 [==============================] - 2s 2ms/step - loss: 2177.2830 - Accuracy: 0.0000e+00\n",
      "Epoch 10/1000\n",
      "1000/1000 [==============================] - 2s 2ms/step - loss: 2131.3584 - Accuracy: 0.0000e+00\n",
      "Epoch 11/1000\n",
      "1000/1000 [==============================] - 1s 1ms/step - loss: 2085.9316 - Accuracy: 0.0000e+00\n",
      "Epoch 12/1000\n",
      "1000/1000 [==============================] - 2s 2ms/step - loss: 2040.9998 - Accuracy: 0.0000e+00\n",
      "Epoch 13/1000\n",
      "1000/1000 [==============================] - 2s 2ms/step - loss: 1996.5588 - Accuracy: 0.0000e+00\n",
      "Epoch 14/1000\n",
      "1000/1000 [==============================] - 2s 2ms/step - loss: 1952.6146 - Accuracy: 0.0000e+00\n",
      "Epoch 15/1000\n",
      "1000/1000 [==============================] - 2s 2ms/step - loss: 1909.1636 - Accuracy: 0.0000e+00\n",
      "Epoch 16/1000\n",
      "1000/1000 [==============================] - 2s 2ms/step - loss: 1866.2052 - Accuracy: 0.0000e+00\n",
      "Epoch 17/1000\n",
      "1000/1000 [==============================] - 2s 2ms/step - loss: 1823.7482 - Accuracy: 0.0000e+00\n",
      "Epoch 18/1000\n",
      "1000/1000 [==============================] - 2s 2ms/step - loss: 1781.7986 - Accuracy: 0.0000e+00\n",
      "Epoch 19/1000\n",
      "1000/1000 [==============================] - 2s 2ms/step - loss: 1740.3394 - Accuracy: 0.0000e+00\n",
      "Epoch 20/1000\n",
      "1000/1000 [==============================] - 2s 2ms/step - loss: 1699.3690 - Accuracy: 0.0000e+00\n",
      "Epoch 21/1000\n",
      "1000/1000 [==============================] - 2s 2ms/step - loss: 1658.8870 - Accuracy: 0.0000e+00\n",
      "Epoch 22/1000\n",
      "1000/1000 [==============================] - 2s 2ms/step - loss: 1618.8928 - Accuracy: 0.0000e+00\n",
      "Epoch 23/1000\n",
      "1000/1000 [==============================] - 2s 2ms/step - loss: 1579.3910 - Accuracy: 0.0000e+00\n",
      "Epoch 24/1000\n",
      "1000/1000 [==============================] - 1s 1ms/step - loss: 1540.3738 - Accuracy: 0.0000e+00\n",
      "Epoch 25/1000\n",
      "1000/1000 [==============================] - 1s 1ms/step - loss: 1501.8506 - Accuracy: 0.0000e+00\n",
      "Epoch 26/1000\n",
      "1000/1000 [==============================] - 1s 1ms/step - loss: 1463.8214 - Accuracy: 0.0000e+00\n",
      "Epoch 27/1000\n",
      "1000/1000 [==============================] - 1s 1ms/step - loss: 1426.2919 - Accuracy: 0.0000e+00\n",
      "Epoch 28/1000\n",
      "1000/1000 [==============================] - 1s 1ms/step - loss: 1389.2616 - Accuracy: 0.0000e+00\n",
      "Epoch 29/1000\n",
      "1000/1000 [==============================] - 1s 1ms/step - loss: 1352.7339 - Accuracy: 0.0000e+00\n",
      "Epoch 30/1000\n",
      "1000/1000 [==============================] - 1s 1ms/step - loss: 1316.7018 - Accuracy: 0.0000e+00\n",
      "Epoch 31/1000\n",
      "1000/1000 [==============================] - 1s 1ms/step - loss: 1281.1632 - Accuracy: 0.0000e+00\n",
      "Epoch 32/1000\n",
      "1000/1000 [==============================] - 1s 1ms/step - loss: 1246.1135 - Accuracy: 0.0000e+00\n",
      "Epoch 33/1000\n",
      "1000/1000 [==============================] - 1s 1ms/step - loss: 1211.5520 - Accuracy: 0.0000e+00\n",
      "Epoch 34/1000\n",
      "1000/1000 [==============================] - 1s 1ms/step - loss: 1177.4928 - Accuracy: 0.0000e+00\n",
      "Epoch 35/1000\n",
      "1000/1000 [==============================] - 1s 1ms/step - loss: 1143.9424 - Accuracy: 0.0000e+00\n",
      "Epoch 36/1000\n",
      "1000/1000 [==============================] - 1s 1ms/step - loss: 1110.8903 - Accuracy: 0.0000e+00\n",
      "Epoch 37/1000\n",
      "1000/1000 [==============================] - 1s 1ms/step - loss: 1078.3297 - Accuracy: 0.0000e+00\n",
      "Epoch 38/1000\n",
      "1000/1000 [==============================] - 1s 1ms/step - loss: 1046.2565 - Accuracy: 0.0000e+00\n",
      "Epoch 39/1000\n",
      "1000/1000 [==============================] - 1s 1ms/step - loss: 1014.6680 - Accuracy: 0.0000e+00\n",
      "Epoch 40/1000\n",
      "1000/1000 [==============================] - 1s 1ms/step - loss: 983.5651 - Accuracy: 0.0000e+00\n",
      "Epoch 41/1000\n",
      "1000/1000 [==============================] - 1s 1ms/step - loss: 952.9466 - Accuracy: 0.0000e+00\n",
      "Epoch 42/1000\n",
      "1000/1000 [==============================] - 1s 1ms/step - loss: 922.8115 - Accuracy: 0.0000e+00\n",
      "Epoch 43/1000\n",
      "1000/1000 [==============================] - 1s 1ms/step - loss: 893.1620 - Accuracy: 0.0000e+00\n",
      "Epoch 44/1000\n",
      "1000/1000 [==============================] - 1s 1ms/step - loss: 863.9954 - Accuracy: 0.0000e+00\n",
      "Epoch 45/1000\n",
      "1000/1000 [==============================] - 1s 1ms/step - loss: 835.3143 - Accuracy: 0.0000e+00\n",
      "Epoch 46/1000\n",
      "1000/1000 [==============================] - 1s 1ms/step - loss: 807.1191 - Accuracy: 0.0000e+00\n",
      "Epoch 47/1000\n",
      "1000/1000 [==============================] - 1s 1ms/step - loss: 779.4150 - Accuracy: 0.0000e+00\n",
      "Epoch 48/1000\n",
      "1000/1000 [==============================] - 1s 1ms/step - loss: 752.2142 - Accuracy: 0.0000e+00\n",
      "Epoch 49/1000\n",
      "1000/1000 [==============================] - 1s 1ms/step - loss: 725.5206 - Accuracy: 0.0000e+00\n",
      "Epoch 50/1000\n",
      "1000/1000 [==============================] - 2s 2ms/step - loss: 699.3378 - Accuracy: 0.0000e+00\n",
      "Epoch 51/1000\n",
      "1000/1000 [==============================] - 1s 1ms/step - loss: 673.6464 - Accuracy: 0.0000e+00\n",
      "Epoch 52/1000\n",
      "1000/1000 [==============================] - 1s 1ms/step - loss: 648.4454 - Accuracy: 0.0000e+00\n",
      "Epoch 53/1000\n",
      "1000/1000 [==============================] - 1s 1ms/step - loss: 623.7266 - Accuracy: 0.0000e+00\n",
      "Epoch 54/1000\n",
      "1000/1000 [==============================] - 1s 1ms/step - loss: 599.4891 - Accuracy: 0.0000e+00\n",
      "Epoch 55/1000\n",
      "1000/1000 [==============================] - 1s 1ms/step - loss: 575.7316 - Accuracy: 0.0000e+00\n",
      "Epoch 56/1000\n",
      "1000/1000 [==============================] - 1s 1ms/step - loss: 552.4556 - Accuracy: 0.0000e+00\n",
      "Epoch 57/1000\n",
      "1000/1000 [==============================] - 1s 1ms/step - loss: 529.6652 - Accuracy: 0.0000e+00\n",
      "Epoch 58/1000\n",
      "1000/1000 [==============================] - 1s 1ms/step - loss: 507.3688 - Accuracy: 0.0000e+00\n",
      "Epoch 59/1000\n",
      "1000/1000 [==============================] - 1s 1ms/step - loss: 485.5761 - Accuracy: 0.0000e+00\n",
      "Epoch 60/1000\n",
      "1000/1000 [==============================] - 1s 1ms/step - loss: 464.2826 - Accuracy: 0.0000e+00\n",
      "Epoch 61/1000\n",
      "1000/1000 [==============================] - 1s 1ms/step - loss: 443.4803 - Accuracy: 0.0000e+00\n",
      "Epoch 62/1000\n",
      "1000/1000 [==============================] - 1s 1ms/step - loss: 423.1587 - Accuracy: 0.0000e+00\n",
      "Epoch 63/1000\n",
      "1000/1000 [==============================] - 1s 1ms/step - loss: 403.3167 - Accuracy: 0.0000e+00\n",
      "Epoch 64/1000\n",
      "1000/1000 [==============================] - 1s 1ms/step - loss: 383.9528 - Accuracy: 0.0000e+00\n",
      "Epoch 65/1000\n",
      "1000/1000 [==============================] - 1s 1ms/step - loss: 365.0762 - Accuracy: 0.0000e+00\n",
      "Epoch 66/1000\n",
      "1000/1000 [==============================] - 1s 1ms/step - loss: 346.6759 - Accuracy: 0.0000e+00\n",
      "Epoch 67/1000\n",
      "1000/1000 [==============================] - 1s 1ms/step - loss: 328.7439 - Accuracy: 0.0000e+00\n",
      "Epoch 68/1000\n",
      "1000/1000 [==============================] - 1s 1ms/step - loss: 311.3129 - Accuracy: 0.0000e+00\n",
      "Epoch 69/1000\n",
      "1000/1000 [==============================] - 1s 1ms/step - loss: 294.4013 - Accuracy: 0.0000e+00\n",
      "Epoch 70/1000\n",
      "1000/1000 [==============================] - 1s 1ms/step - loss: 278.0047 - Accuracy: 0.0000e+00\n",
      "Epoch 71/1000\n",
      "1000/1000 [==============================] - 1s 1ms/step - loss: 262.0896 - Accuracy: 0.0000e+00\n",
      "Epoch 72/1000\n",
      "1000/1000 [==============================] - 1s 1ms/step - loss: 246.6463 - Accuracy: 0.0000e+00\n",
      "Epoch 73/1000\n",
      "1000/1000 [==============================] - 1s 1ms/step - loss: 231.6750 - Accuracy: 0.0000e+00\n",
      "Epoch 74/1000\n",
      "1000/1000 [==============================] - 1s 1ms/step - loss: 217.1716 - Accuracy: 0.0000e+00\n",
      "Epoch 75/1000\n",
      "1000/1000 [==============================] - 1s 1ms/step - loss: 203.1379 - Accuracy: 0.0000e+00\n",
      "Epoch 76/1000\n",
      "1000/1000 [==============================] - 1s 1ms/step - loss: 189.5830 - Accuracy: 0.0000e+00\n",
      "Epoch 77/1000\n",
      "1000/1000 [==============================] - 1s 1ms/step - loss: 176.5352 - Accuracy: 0.0000e+00\n",
      "Epoch 78/1000\n",
      "1000/1000 [==============================] - 1s 1ms/step - loss: 163.9910 - Accuracy: 0.0000e+00\n",
      "Epoch 79/1000\n",
      "1000/1000 [==============================] - 1s 1ms/step - loss: 151.9223 - Accuracy: 0.0000e+00\n",
      "Epoch 80/1000\n",
      "1000/1000 [==============================] - 1s 1ms/step - loss: 140.3168 - Accuracy: 0.0000e+00\n",
      "Epoch 81/1000\n",
      "1000/1000 [==============================] - 1s 1ms/step - loss: 129.1755 - Accuracy: 0.0000e+00\n",
      "Epoch 82/1000\n",
      "1000/1000 [==============================] - 1s 1ms/step - loss: 118.5206 - Accuracy: 0.0000e+00\n",
      "Epoch 83/1000\n",
      "1000/1000 [==============================] - 1s 1ms/step - loss: 108.3606 - Accuracy: 0.0000e+00\n",
      "Epoch 84/1000\n",
      "1000/1000 [==============================] - 1s 1ms/step - loss: 98.6728 - Accuracy: 0.0000e+00\n",
      "Epoch 85/1000\n",
      "1000/1000 [==============================] - 1s 1ms/step - loss: 89.4470 - Accuracy: 0.0000e+00\n",
      "Epoch 86/1000\n",
      "1000/1000 [==============================] - 1s 1ms/step - loss: 80.7000 - Accuracy: 0.0000e+00\n",
      "Epoch 87/1000\n",
      "1000/1000 [==============================] - 1s 1ms/step - loss: 72.4347 - Accuracy: 0.0000e+00\n",
      "Epoch 88/1000\n",
      "1000/1000 [==============================] - 1s 1ms/step - loss: 64.6312 - Accuracy: 0.0000e+00\n",
      "Epoch 89/1000\n",
      "1000/1000 [==============================] - 1s 1ms/step - loss: 57.3028 - Accuracy: 0.0000e+00\n",
      "Epoch 90/1000\n",
      "1000/1000 [==============================] - 1s 1ms/step - loss: 50.4378 - Accuracy: 0.0000e+00\n",
      "Epoch 91/1000\n",
      "1000/1000 [==============================] - 1s 1ms/step - loss: 44.0399 - Accuracy: 0.0000e+00\n",
      "Epoch 92/1000\n",
      "1000/1000 [==============================] - 1s 1ms/step - loss: 38.1050 - Accuracy: 0.0000e+00\n",
      "Epoch 93/1000\n",
      "1000/1000 [==============================] - 1s 1ms/step - loss: 32.6315 - Accuracy: 0.0000e+00\n",
      "Epoch 94/1000\n",
      "1000/1000 [==============================] - 1s 1ms/step - loss: 27.6146 - Accuracy: 0.0000e+00\n",
      "Epoch 95/1000\n",
      "1000/1000 [==============================] - 1s 1ms/step - loss: 23.0516 - Accuracy: 0.0000e+00\n",
      "Epoch 96/1000\n",
      "1000/1000 [==============================] - 1s 1ms/step - loss: 18.9375 - Accuracy: 0.0000e+00\n",
      "Epoch 97/1000\n",
      "1000/1000 [==============================] - 1s 1ms/step - loss: 15.2684 - Accuracy: 0.0000e+00\n",
      "Epoch 98/1000\n",
      "1000/1000 [==============================] - 1s 1ms/step - loss: 12.0381 - Accuracy: 0.0000e+00\n",
      "Epoch 99/1000\n",
      "1000/1000 [==============================] - 1s 1ms/step - loss: 9.2387 - Accuracy: 0.0000e+00\n",
      "Epoch 100/1000\n",
      "1000/1000 [==============================] - 1s 1ms/step - loss: 6.8614 - Accuracy: 0.0000e+00\n",
      "Epoch 101/1000\n",
      "1000/1000 [==============================] - 1s 1ms/step - loss: 4.8947 - Accuracy: 0.0000e+00\n",
      "Epoch 102/1000\n",
      "1000/1000 [==============================] - 1s 1ms/step - loss: 3.3231 - Accuracy: 0.0000e+00\n",
      "Epoch 103/1000\n",
      "1000/1000 [==============================] - 1s 1ms/step - loss: 2.1262 - Accuracy: 0.0000e+00\n",
      "Epoch 104/1000\n",
      "1000/1000 [==============================] - 1s 1ms/step - loss: 1.2767 - Accuracy: 0.0000e+00\n",
      "Epoch 105/1000\n",
      "1000/1000 [==============================] - 1s 1ms/step - loss: 0.7345 - Accuracy: 0.0000e+00\n",
      "Epoch 106/1000\n",
      "1000/1000 [==============================] - 1s 1ms/step - loss: 0.4436 - Accuracy: 0.0000e+00\n",
      "Epoch 107/1000\n",
      "1000/1000 [==============================] - 1s 1ms/step - loss: 0.3274 - Accuracy: 0.0000e+00\n",
      "Epoch 108/1000\n",
      "1000/1000 [==============================] - 1s 1ms/step - loss: 0.2995 - Accuracy: 0.0000e+00\n",
      "Epoch 109/1000\n",
      "1000/1000 [==============================] - 1s 1ms/step - loss: 0.2965 - Accuracy: 0.0000e+00\n",
      "Epoch 110/1000\n",
      "1000/1000 [==============================] - 1s 1ms/step - loss: 0.2964 - Accuracy: 0.0000e+00\n",
      "Epoch 111/1000\n",
      "1000/1000 [==============================] - 1s 1ms/step - loss: 0.2964 - Accuracy: 0.0000e+00\n",
      "Epoch 112/1000\n",
      "1000/1000 [==============================] - 1s 1ms/step - loss: 0.2964 - Accuracy: 0.0000e+00\n",
      "Epoch 113/1000\n",
      "1000/1000 [==============================] - 1s 1ms/step - loss: 0.2964 - Accuracy: 0.0000e+00\n",
      "Epoch 114/1000\n",
      "1000/1000 [==============================] - 1s 1ms/step - loss: 0.2964 - Accuracy: 0.0000e+00\n",
      "Epoch 115/1000\n",
      "1000/1000 [==============================] - 1s 1ms/step - loss: 0.2964 - Accuracy: 0.0000e+00\n",
      "Epoch 116/1000\n",
      "1000/1000 [==============================] - 2s 2ms/step - loss: 0.2964 - Accuracy: 0.0000e+00\n",
      "Epoch 117/1000\n",
      "1000/1000 [==============================] - 1s 1ms/step - loss: 0.2964 - Accuracy: 0.0000e+00\n",
      "Epoch 118/1000\n",
      "1000/1000 [==============================] - 1s 1ms/step - loss: 0.2964 - Accuracy: 0.0000e+00\n",
      "Epoch 119/1000\n",
      "1000/1000 [==============================] - 1s 1ms/step - loss: 0.2964 - Accuracy: 0.0000e+00\n",
      "Epoch 120/1000\n",
      "1000/1000 [==============================] - 1s 1ms/step - loss: 0.2964 - Accuracy: 0.0000e+00\n",
      "Epoch 121/1000\n",
      "1000/1000 [==============================] - 1s 1ms/step - loss: 0.2964 - Accuracy: 0.0000e+00\n",
      "Epoch 122/1000\n",
      "1000/1000 [==============================] - 1s 1ms/step - loss: 0.2964 - Accuracy: 0.0000e+00\n",
      "Epoch 123/1000\n",
      "1000/1000 [==============================] - 1s 1ms/step - loss: 0.2964 - Accuracy: 0.0000e+00\n",
      "Epoch 124/1000\n",
      "1000/1000 [==============================] - 1s 1ms/step - loss: 0.2964 - Accuracy: 0.0000e+00\n",
      "Epoch 125/1000\n",
      "1000/1000 [==============================] - 1s 1ms/step - loss: 0.2964 - Accuracy: 0.0000e+00\n",
      "Epoch 126/1000\n",
      "1000/1000 [==============================] - 1s 1ms/step - loss: 0.2964 - Accuracy: 0.0000e+00\n",
      "Epoch 127/1000\n",
      " 330/1000 [========>.....................] - ETA: 0s - loss: 0.2981 - Accuracy: 0.0000e+00"
     ]
    },
    {
     "ename": "KeyboardInterrupt",
     "evalue": "",
     "output_type": "error",
     "traceback": [
      "\u001b[1;31m---------------------------------------------------------------------------\u001b[0m",
      "\u001b[1;31mKeyboardInterrupt\u001b[0m                         Traceback (most recent call last)",
      "Cell \u001b[1;32mIn[7], line 15\u001b[0m\n\u001b[0;32m      9\u001b[0m optimizer \u001b[38;5;241m=\u001b[39m keras\u001b[38;5;241m.\u001b[39moptimizers\u001b[38;5;241m.\u001b[39mAdam(learning_rate\u001b[38;5;241m=\u001b[39m\u001b[38;5;241m0.0005\u001b[39m)\n\u001b[0;32m     10\u001b[0m model\u001b[38;5;241m.\u001b[39mcompile (optimizer\u001b[38;5;241m=\u001b[39moptimizer,\n\u001b[0;32m     11\u001b[0m                loss \u001b[38;5;241m=\u001b[39m \u001b[38;5;124m'\u001b[39m\u001b[38;5;124mMSE\u001b[39m\u001b[38;5;124m'\u001b[39m,\n\u001b[0;32m     12\u001b[0m                metrics \u001b[38;5;241m=\u001b[39m [\u001b[38;5;124m'\u001b[39m\u001b[38;5;124mAccuracy\u001b[39m\u001b[38;5;124m'\u001b[39m]\n\u001b[0;32m     13\u001b[0m                )\n\u001b[1;32m---> 15\u001b[0m history \u001b[38;5;241m=\u001b[39m \u001b[43mmodel\u001b[49m\u001b[38;5;241;43m.\u001b[39;49m\u001b[43mfit\u001b[49m\u001b[43m(\u001b[49m\u001b[43mx\u001b[49m\u001b[43m,\u001b[49m\u001b[43m \u001b[49m\u001b[43my\u001b[49m\u001b[43m,\u001b[49m\u001b[43m \u001b[49m\u001b[43mepochs\u001b[49m\u001b[43m \u001b[49m\u001b[38;5;241;43m=\u001b[39;49m\u001b[43m \u001b[49m\u001b[38;5;241;43m1000\u001b[39;49m\u001b[43m,\u001b[49m\u001b[43m \u001b[49m\u001b[43mbatch_size\u001b[49m\u001b[38;5;241;43m=\u001b[39;49m\u001b[38;5;241;43m100\u001b[39;49m\u001b[43m)\u001b[49m\n\u001b[0;32m     16\u001b[0m model\u001b[38;5;241m.\u001b[39msummary()\n",
      "File \u001b[1;32mc:\\Python_Program\\.venv\\lib\\site-packages\\keras\\src\\utils\\traceback_utils.py:65\u001b[0m, in \u001b[0;36mfilter_traceback.<locals>.error_handler\u001b[1;34m(*args, **kwargs)\u001b[0m\n\u001b[0;32m     63\u001b[0m filtered_tb \u001b[38;5;241m=\u001b[39m \u001b[38;5;28;01mNone\u001b[39;00m\n\u001b[0;32m     64\u001b[0m \u001b[38;5;28;01mtry\u001b[39;00m:\n\u001b[1;32m---> 65\u001b[0m     \u001b[38;5;28;01mreturn\u001b[39;00m \u001b[43mfn\u001b[49m\u001b[43m(\u001b[49m\u001b[38;5;241;43m*\u001b[39;49m\u001b[43margs\u001b[49m\u001b[43m,\u001b[49m\u001b[43m \u001b[49m\u001b[38;5;241;43m*\u001b[39;49m\u001b[38;5;241;43m*\u001b[39;49m\u001b[43mkwargs\u001b[49m\u001b[43m)\u001b[49m\n\u001b[0;32m     66\u001b[0m \u001b[38;5;28;01mexcept\u001b[39;00m \u001b[38;5;167;01mException\u001b[39;00m \u001b[38;5;28;01mas\u001b[39;00m e:\n\u001b[0;32m     67\u001b[0m     filtered_tb \u001b[38;5;241m=\u001b[39m _process_traceback_frames(e\u001b[38;5;241m.\u001b[39m__traceback__)\n",
      "File \u001b[1;32mc:\\Python_Program\\.venv\\lib\\site-packages\\keras\\src\\engine\\training.py:1742\u001b[0m, in \u001b[0;36mModel.fit\u001b[1;34m(self, x, y, batch_size, epochs, verbose, callbacks, validation_split, validation_data, shuffle, class_weight, sample_weight, initial_epoch, steps_per_epoch, validation_steps, validation_batch_size, validation_freq, max_queue_size, workers, use_multiprocessing)\u001b[0m\n\u001b[0;32m   1734\u001b[0m \u001b[38;5;28;01mwith\u001b[39;00m tf\u001b[38;5;241m.\u001b[39mprofiler\u001b[38;5;241m.\u001b[39mexperimental\u001b[38;5;241m.\u001b[39mTrace(\n\u001b[0;32m   1735\u001b[0m     \u001b[38;5;124m\"\u001b[39m\u001b[38;5;124mtrain\u001b[39m\u001b[38;5;124m\"\u001b[39m,\n\u001b[0;32m   1736\u001b[0m     epoch_num\u001b[38;5;241m=\u001b[39mepoch,\n\u001b[1;32m   (...)\u001b[0m\n\u001b[0;32m   1739\u001b[0m     _r\u001b[38;5;241m=\u001b[39m\u001b[38;5;241m1\u001b[39m,\n\u001b[0;32m   1740\u001b[0m ):\n\u001b[0;32m   1741\u001b[0m     callbacks\u001b[38;5;241m.\u001b[39mon_train_batch_begin(step)\n\u001b[1;32m-> 1742\u001b[0m     tmp_logs \u001b[38;5;241m=\u001b[39m \u001b[38;5;28;43mself\u001b[39;49m\u001b[38;5;241;43m.\u001b[39;49m\u001b[43mtrain_function\u001b[49m\u001b[43m(\u001b[49m\u001b[43miterator\u001b[49m\u001b[43m)\u001b[49m\n\u001b[0;32m   1743\u001b[0m     \u001b[38;5;28;01mif\u001b[39;00m data_handler\u001b[38;5;241m.\u001b[39mshould_sync:\n\u001b[0;32m   1744\u001b[0m         context\u001b[38;5;241m.\u001b[39masync_wait()\n",
      "File \u001b[1;32mc:\\Python_Program\\.venv\\lib\\site-packages\\tensorflow\\python\\util\\traceback_utils.py:150\u001b[0m, in \u001b[0;36mfilter_traceback.<locals>.error_handler\u001b[1;34m(*args, **kwargs)\u001b[0m\n\u001b[0;32m    148\u001b[0m filtered_tb \u001b[38;5;241m=\u001b[39m \u001b[38;5;28;01mNone\u001b[39;00m\n\u001b[0;32m    149\u001b[0m \u001b[38;5;28;01mtry\u001b[39;00m:\n\u001b[1;32m--> 150\u001b[0m   \u001b[38;5;28;01mreturn\u001b[39;00m \u001b[43mfn\u001b[49m\u001b[43m(\u001b[49m\u001b[38;5;241;43m*\u001b[39;49m\u001b[43margs\u001b[49m\u001b[43m,\u001b[49m\u001b[43m \u001b[49m\u001b[38;5;241;43m*\u001b[39;49m\u001b[38;5;241;43m*\u001b[39;49m\u001b[43mkwargs\u001b[49m\u001b[43m)\u001b[49m\n\u001b[0;32m    151\u001b[0m \u001b[38;5;28;01mexcept\u001b[39;00m \u001b[38;5;167;01mException\u001b[39;00m \u001b[38;5;28;01mas\u001b[39;00m e:\n\u001b[0;32m    152\u001b[0m   filtered_tb \u001b[38;5;241m=\u001b[39m _process_traceback_frames(e\u001b[38;5;241m.\u001b[39m__traceback__)\n",
      "File \u001b[1;32mc:\\Python_Program\\.venv\\lib\\site-packages\\tensorflow\\python\\eager\\polymorphic_function\\polymorphic_function.py:825\u001b[0m, in \u001b[0;36mFunction.__call__\u001b[1;34m(self, *args, **kwds)\u001b[0m\n\u001b[0;32m    822\u001b[0m compiler \u001b[38;5;241m=\u001b[39m \u001b[38;5;124m\"\u001b[39m\u001b[38;5;124mxla\u001b[39m\u001b[38;5;124m\"\u001b[39m \u001b[38;5;28;01mif\u001b[39;00m \u001b[38;5;28mself\u001b[39m\u001b[38;5;241m.\u001b[39m_jit_compile \u001b[38;5;28;01melse\u001b[39;00m \u001b[38;5;124m\"\u001b[39m\u001b[38;5;124mnonXla\u001b[39m\u001b[38;5;124m\"\u001b[39m\n\u001b[0;32m    824\u001b[0m \u001b[38;5;28;01mwith\u001b[39;00m OptionalXlaContext(\u001b[38;5;28mself\u001b[39m\u001b[38;5;241m.\u001b[39m_jit_compile):\n\u001b[1;32m--> 825\u001b[0m   result \u001b[38;5;241m=\u001b[39m \u001b[38;5;28;43mself\u001b[39;49m\u001b[38;5;241;43m.\u001b[39;49m\u001b[43m_call\u001b[49m\u001b[43m(\u001b[49m\u001b[38;5;241;43m*\u001b[39;49m\u001b[43margs\u001b[49m\u001b[43m,\u001b[49m\u001b[43m \u001b[49m\u001b[38;5;241;43m*\u001b[39;49m\u001b[38;5;241;43m*\u001b[39;49m\u001b[43mkwds\u001b[49m\u001b[43m)\u001b[49m\n\u001b[0;32m    827\u001b[0m new_tracing_count \u001b[38;5;241m=\u001b[39m \u001b[38;5;28mself\u001b[39m\u001b[38;5;241m.\u001b[39mexperimental_get_tracing_count()\n\u001b[0;32m    828\u001b[0m without_tracing \u001b[38;5;241m=\u001b[39m (tracing_count \u001b[38;5;241m==\u001b[39m new_tracing_count)\n",
      "File \u001b[1;32mc:\\Python_Program\\.venv\\lib\\site-packages\\tensorflow\\python\\eager\\polymorphic_function\\polymorphic_function.py:857\u001b[0m, in \u001b[0;36mFunction._call\u001b[1;34m(self, *args, **kwds)\u001b[0m\n\u001b[0;32m    854\u001b[0m   \u001b[38;5;28mself\u001b[39m\u001b[38;5;241m.\u001b[39m_lock\u001b[38;5;241m.\u001b[39mrelease()\n\u001b[0;32m    855\u001b[0m   \u001b[38;5;66;03m# In this case we have created variables on the first call, so we run the\u001b[39;00m\n\u001b[0;32m    856\u001b[0m   \u001b[38;5;66;03m# defunned version which is guaranteed to never create variables.\u001b[39;00m\n\u001b[1;32m--> 857\u001b[0m   \u001b[38;5;28;01mreturn\u001b[39;00m \u001b[38;5;28;43mself\u001b[39;49m\u001b[38;5;241;43m.\u001b[39;49m\u001b[43m_no_variable_creation_fn\u001b[49m\u001b[43m(\u001b[49m\u001b[38;5;241;43m*\u001b[39;49m\u001b[43margs\u001b[49m\u001b[43m,\u001b[49m\u001b[43m \u001b[49m\u001b[38;5;241;43m*\u001b[39;49m\u001b[38;5;241;43m*\u001b[39;49m\u001b[43mkwds\u001b[49m\u001b[43m)\u001b[49m  \u001b[38;5;66;03m# pylint: disable=not-callable\u001b[39;00m\n\u001b[0;32m    858\u001b[0m \u001b[38;5;28;01melif\u001b[39;00m \u001b[38;5;28mself\u001b[39m\u001b[38;5;241m.\u001b[39m_variable_creation_fn \u001b[38;5;129;01mis\u001b[39;00m \u001b[38;5;129;01mnot\u001b[39;00m \u001b[38;5;28;01mNone\u001b[39;00m:\n\u001b[0;32m    859\u001b[0m   \u001b[38;5;66;03m# Release the lock early so that multiple threads can perform the call\u001b[39;00m\n\u001b[0;32m    860\u001b[0m   \u001b[38;5;66;03m# in parallel.\u001b[39;00m\n\u001b[0;32m    861\u001b[0m   \u001b[38;5;28mself\u001b[39m\u001b[38;5;241m.\u001b[39m_lock\u001b[38;5;241m.\u001b[39mrelease()\n",
      "File \u001b[1;32mc:\\Python_Program\\.venv\\lib\\site-packages\\tensorflow\\python\\eager\\polymorphic_function\\tracing_compiler.py:148\u001b[0m, in \u001b[0;36mTracingCompiler.__call__\u001b[1;34m(self, *args, **kwargs)\u001b[0m\n\u001b[0;32m    145\u001b[0m \u001b[38;5;28;01mwith\u001b[39;00m \u001b[38;5;28mself\u001b[39m\u001b[38;5;241m.\u001b[39m_lock:\n\u001b[0;32m    146\u001b[0m   (concrete_function,\n\u001b[0;32m    147\u001b[0m    filtered_flat_args) \u001b[38;5;241m=\u001b[39m \u001b[38;5;28mself\u001b[39m\u001b[38;5;241m.\u001b[39m_maybe_define_function(args, kwargs)\n\u001b[1;32m--> 148\u001b[0m \u001b[38;5;28;01mreturn\u001b[39;00m \u001b[43mconcrete_function\u001b[49m\u001b[38;5;241;43m.\u001b[39;49m\u001b[43m_call_flat\u001b[49m\u001b[43m(\u001b[49m\n\u001b[0;32m    149\u001b[0m \u001b[43m    \u001b[49m\u001b[43mfiltered_flat_args\u001b[49m\u001b[43m,\u001b[49m\u001b[43m \u001b[49m\u001b[43mcaptured_inputs\u001b[49m\u001b[38;5;241;43m=\u001b[39;49m\u001b[43mconcrete_function\u001b[49m\u001b[38;5;241;43m.\u001b[39;49m\u001b[43mcaptured_inputs\u001b[49m\u001b[43m)\u001b[49m\n",
      "File \u001b[1;32mc:\\Python_Program\\.venv\\lib\\site-packages\\tensorflow\\python\\eager\\polymorphic_function\\monomorphic_function.py:1349\u001b[0m, in \u001b[0;36mConcreteFunction._call_flat\u001b[1;34m(self, args, captured_inputs)\u001b[0m\n\u001b[0;32m   1345\u001b[0m possible_gradient_type \u001b[38;5;241m=\u001b[39m gradients_util\u001b[38;5;241m.\u001b[39mPossibleTapeGradientTypes(args)\n\u001b[0;32m   1346\u001b[0m \u001b[38;5;28;01mif\u001b[39;00m (possible_gradient_type \u001b[38;5;241m==\u001b[39m gradients_util\u001b[38;5;241m.\u001b[39mPOSSIBLE_GRADIENT_TYPES_NONE\n\u001b[0;32m   1347\u001b[0m     \u001b[38;5;129;01mand\u001b[39;00m executing_eagerly):\n\u001b[0;32m   1348\u001b[0m   \u001b[38;5;66;03m# No tape is watching; skip to running the function.\u001b[39;00m\n\u001b[1;32m-> 1349\u001b[0m   \u001b[38;5;28;01mreturn\u001b[39;00m \u001b[38;5;28mself\u001b[39m\u001b[38;5;241m.\u001b[39m_build_call_outputs(\u001b[38;5;28;43mself\u001b[39;49m\u001b[38;5;241;43m.\u001b[39;49m\u001b[43m_inference_function\u001b[49m\u001b[43m(\u001b[49m\u001b[38;5;241;43m*\u001b[39;49m\u001b[43margs\u001b[49m\u001b[43m)\u001b[49m)\n\u001b[0;32m   1350\u001b[0m forward_backward \u001b[38;5;241m=\u001b[39m \u001b[38;5;28mself\u001b[39m\u001b[38;5;241m.\u001b[39m_select_forward_and_backward_functions(\n\u001b[0;32m   1351\u001b[0m     args,\n\u001b[0;32m   1352\u001b[0m     possible_gradient_type,\n\u001b[0;32m   1353\u001b[0m     executing_eagerly)\n\u001b[0;32m   1354\u001b[0m forward_function, args_with_tangents \u001b[38;5;241m=\u001b[39m forward_backward\u001b[38;5;241m.\u001b[39mforward()\n",
      "File \u001b[1;32mc:\\Python_Program\\.venv\\lib\\site-packages\\tensorflow\\python\\eager\\polymorphic_function\\atomic_function.py:196\u001b[0m, in \u001b[0;36mAtomicFunction.__call__\u001b[1;34m(self, *args)\u001b[0m\n\u001b[0;32m    194\u001b[0m \u001b[38;5;28;01mwith\u001b[39;00m record\u001b[38;5;241m.\u001b[39mstop_recording():\n\u001b[0;32m    195\u001b[0m   \u001b[38;5;28;01mif\u001b[39;00m \u001b[38;5;28mself\u001b[39m\u001b[38;5;241m.\u001b[39m_bound_context\u001b[38;5;241m.\u001b[39mexecuting_eagerly():\n\u001b[1;32m--> 196\u001b[0m     outputs \u001b[38;5;241m=\u001b[39m \u001b[38;5;28;43mself\u001b[39;49m\u001b[38;5;241;43m.\u001b[39;49m\u001b[43m_bound_context\u001b[49m\u001b[38;5;241;43m.\u001b[39;49m\u001b[43mcall_function\u001b[49m\u001b[43m(\u001b[49m\n\u001b[0;32m    197\u001b[0m \u001b[43m        \u001b[49m\u001b[38;5;28;43mself\u001b[39;49m\u001b[38;5;241;43m.\u001b[39;49m\u001b[43mname\u001b[49m\u001b[43m,\u001b[49m\n\u001b[0;32m    198\u001b[0m \u001b[43m        \u001b[49m\u001b[38;5;28;43mlist\u001b[39;49m\u001b[43m(\u001b[49m\u001b[43margs\u001b[49m\u001b[43m)\u001b[49m\u001b[43m,\u001b[49m\n\u001b[0;32m    199\u001b[0m \u001b[43m        \u001b[49m\u001b[38;5;28;43mlen\u001b[39;49m\u001b[43m(\u001b[49m\u001b[38;5;28;43mself\u001b[39;49m\u001b[38;5;241;43m.\u001b[39;49m\u001b[43mfunction_type\u001b[49m\u001b[38;5;241;43m.\u001b[39;49m\u001b[43mflat_outputs\u001b[49m\u001b[43m)\u001b[49m\u001b[43m,\u001b[49m\n\u001b[0;32m    200\u001b[0m \u001b[43m    \u001b[49m\u001b[43m)\u001b[49m\n\u001b[0;32m    201\u001b[0m   \u001b[38;5;28;01melse\u001b[39;00m:\n\u001b[0;32m    202\u001b[0m     outputs \u001b[38;5;241m=\u001b[39m make_call_op_in_graph(\u001b[38;5;28mself\u001b[39m, \u001b[38;5;28mlist\u001b[39m(args))\n",
      "File \u001b[1;32mc:\\Python_Program\\.venv\\lib\\site-packages\\tensorflow\\python\\eager\\context.py:1457\u001b[0m, in \u001b[0;36mContext.call_function\u001b[1;34m(self, name, tensor_inputs, num_outputs)\u001b[0m\n\u001b[0;32m   1455\u001b[0m cancellation_context \u001b[38;5;241m=\u001b[39m cancellation\u001b[38;5;241m.\u001b[39mcontext()\n\u001b[0;32m   1456\u001b[0m \u001b[38;5;28;01mif\u001b[39;00m cancellation_context \u001b[38;5;129;01mis\u001b[39;00m \u001b[38;5;28;01mNone\u001b[39;00m:\n\u001b[1;32m-> 1457\u001b[0m   outputs \u001b[38;5;241m=\u001b[39m \u001b[43mexecute\u001b[49m\u001b[38;5;241;43m.\u001b[39;49m\u001b[43mexecute\u001b[49m\u001b[43m(\u001b[49m\n\u001b[0;32m   1458\u001b[0m \u001b[43m      \u001b[49m\u001b[43mname\u001b[49m\u001b[38;5;241;43m.\u001b[39;49m\u001b[43mdecode\u001b[49m\u001b[43m(\u001b[49m\u001b[38;5;124;43m\"\u001b[39;49m\u001b[38;5;124;43mutf-8\u001b[39;49m\u001b[38;5;124;43m\"\u001b[39;49m\u001b[43m)\u001b[49m\u001b[43m,\u001b[49m\n\u001b[0;32m   1459\u001b[0m \u001b[43m      \u001b[49m\u001b[43mnum_outputs\u001b[49m\u001b[38;5;241;43m=\u001b[39;49m\u001b[43mnum_outputs\u001b[49m\u001b[43m,\u001b[49m\n\u001b[0;32m   1460\u001b[0m \u001b[43m      \u001b[49m\u001b[43minputs\u001b[49m\u001b[38;5;241;43m=\u001b[39;49m\u001b[43mtensor_inputs\u001b[49m\u001b[43m,\u001b[49m\n\u001b[0;32m   1461\u001b[0m \u001b[43m      \u001b[49m\u001b[43mattrs\u001b[49m\u001b[38;5;241;43m=\u001b[39;49m\u001b[43mattrs\u001b[49m\u001b[43m,\u001b[49m\n\u001b[0;32m   1462\u001b[0m \u001b[43m      \u001b[49m\u001b[43mctx\u001b[49m\u001b[38;5;241;43m=\u001b[39;49m\u001b[38;5;28;43mself\u001b[39;49m\u001b[43m,\u001b[49m\n\u001b[0;32m   1463\u001b[0m \u001b[43m  \u001b[49m\u001b[43m)\u001b[49m\n\u001b[0;32m   1464\u001b[0m \u001b[38;5;28;01melse\u001b[39;00m:\n\u001b[0;32m   1465\u001b[0m   outputs \u001b[38;5;241m=\u001b[39m execute\u001b[38;5;241m.\u001b[39mexecute_with_cancellation(\n\u001b[0;32m   1466\u001b[0m       name\u001b[38;5;241m.\u001b[39mdecode(\u001b[38;5;124m\"\u001b[39m\u001b[38;5;124mutf-8\u001b[39m\u001b[38;5;124m\"\u001b[39m),\n\u001b[0;32m   1467\u001b[0m       num_outputs\u001b[38;5;241m=\u001b[39mnum_outputs,\n\u001b[1;32m   (...)\u001b[0m\n\u001b[0;32m   1471\u001b[0m       cancellation_manager\u001b[38;5;241m=\u001b[39mcancellation_context,\n\u001b[0;32m   1472\u001b[0m   )\n",
      "File \u001b[1;32mc:\\Python_Program\\.venv\\lib\\site-packages\\tensorflow\\python\\eager\\execute.py:53\u001b[0m, in \u001b[0;36mquick_execute\u001b[1;34m(op_name, num_outputs, inputs, attrs, ctx, name)\u001b[0m\n\u001b[0;32m     51\u001b[0m \u001b[38;5;28;01mtry\u001b[39;00m:\n\u001b[0;32m     52\u001b[0m   ctx\u001b[38;5;241m.\u001b[39mensure_initialized()\n\u001b[1;32m---> 53\u001b[0m   tensors \u001b[38;5;241m=\u001b[39m \u001b[43mpywrap_tfe\u001b[49m\u001b[38;5;241;43m.\u001b[39;49m\u001b[43mTFE_Py_Execute\u001b[49m\u001b[43m(\u001b[49m\u001b[43mctx\u001b[49m\u001b[38;5;241;43m.\u001b[39;49m\u001b[43m_handle\u001b[49m\u001b[43m,\u001b[49m\u001b[43m \u001b[49m\u001b[43mdevice_name\u001b[49m\u001b[43m,\u001b[49m\u001b[43m \u001b[49m\u001b[43mop_name\u001b[49m\u001b[43m,\u001b[49m\n\u001b[0;32m     54\u001b[0m \u001b[43m                                      \u001b[49m\u001b[43minputs\u001b[49m\u001b[43m,\u001b[49m\u001b[43m \u001b[49m\u001b[43mattrs\u001b[49m\u001b[43m,\u001b[49m\u001b[43m \u001b[49m\u001b[43mnum_outputs\u001b[49m\u001b[43m)\u001b[49m\n\u001b[0;32m     55\u001b[0m \u001b[38;5;28;01mexcept\u001b[39;00m core\u001b[38;5;241m.\u001b[39m_NotOkStatusException \u001b[38;5;28;01mas\u001b[39;00m e:\n\u001b[0;32m     56\u001b[0m   \u001b[38;5;28;01mif\u001b[39;00m name \u001b[38;5;129;01mis\u001b[39;00m \u001b[38;5;129;01mnot\u001b[39;00m \u001b[38;5;28;01mNone\u001b[39;00m:\n",
      "\u001b[1;31mKeyboardInterrupt\u001b[0m: "
     ]
    }
   ],
   "source": [
    "\n",
    "# x = x_transpose\n",
    "# y = y\n",
    "initializers = keras.initializers.GlorotNormal()\n",
    "model = keras.Sequential([\n",
    "    keras.layers.Dense(1 , input_shape= (1,)),\n",
    "    keras.layers.Dense(2 ,activation = \"sigmoid\"),\n",
    "    keras.layers.Dense(1 ,activation = \"linear\",),\n",
    "])\n",
    "optimizer = keras.optimizers.Adam(learning_rate=0.001)\n",
    "model.compile (optimizer=optimizer,\n",
    "               loss = 'MSE',\n",
    "               metrics = ['Accuracy']\n",
    "               )\n",
    "\n",
    "history = model.fit(x, y, epochs = 1000, batch_size=100)\n",
    "model.summary()\n",
    "\n",
    "\n"
   ]
  },
  {
   "cell_type": "code",
   "execution_count": 24,
   "metadata": {},
   "outputs": [
    {
     "data": {
      "text/plain": [
       "[<matplotlib.lines.Line2D at 0x2b027e160a0>]"
      ]
     },
     "execution_count": 24,
     "metadata": {},
     "output_type": "execute_result"
    },
    {
     "data": {
      "image/png": "[encoded data removed]",
      "text/plain": [
       "<Figure size 640x480 with 2 Axes>"
      ]
     },
     "metadata": {},
     "output_type": "display_data"
    }
   ],
   "source": [
    "fig, ax = plt.subplots(2,1)\n",
    "ax[0].plot(history.history['loss'])\n",
    "ax[1].plot(history.history['Accuracy'])"
   ]
  },
  {
   "cell_type": "code",
   "execution_count": 25,
   "metadata": {},
   "outputs": [
    {
     "name": "stdout",
     "output_type": "stream",
     "text": [
      "3125/3125 [==============================] - 5s 1ms/step\n"
     ]
    }
   ],
   "source": [
    "y_pred = model.predict(y)"
   ]
  },
  {
   "cell_type": "code",
   "execution_count": 26,
   "metadata": {},
   "outputs": [
    {
     "name": "stdout",
     "output_type": "stream",
     "text": [
      "R-square: 0.999341673874581\n"
     ]
    }
   ],
   "source": [
    "print('R-square:',r2_score(data[:len(data)-1], y_pred))"
   ]
  },
  {
   "cell_type": "code",
   "execution_count": 30,
   "metadata": {},
   "outputs": [
    {
     "data": {
      "text/plain": [
       "<matplotlib.legend.Legend at 0x2b021dae3d0>"
      ]
     },
     "execution_count": 30,
     "metadata": {},
     "output_type": "execute_result"
    },
    {
     "data": {
      "image/png": "[encoded data removed]",
      "text/plain": [
       "<Figure size 640x480 with 1 Axes>"
      ]
     },
     "metadata": {},
     "output_type": "display_data"
    }
   ],
   "source": [
    "\n",
    "plt.plot (y_pred, label='Predictions')\n",
    "plt.plot (data, label=\"True\")\n",
    "\n",
    "plt.legend()"
   ]
  },
  {
   "cell_type": "code",
   "execution_count": 28,
   "metadata": {},
   "outputs": [
    {
     "data": {
      "text/plain": [
       "<matplotlib.legend.Legend at 0x2b0231710d0>"
      ]
     },
     "execution_count": 28,
     "metadata": {},
     "output_type": "execute_result"
    },
    {
     "data": {
      "image/png": "[encoded data removed]",
      "text/plain": [
       "<Figure size 640x480 with 1 Axes>"
      ]
     },
     "metadata": {},
     "output_type": "display_data"
    }
   ],
   "source": [
    "N_data = len(y_pred)\n",
    "plt.plot (y_pred, label='Predictions')\n",
    "plt.plot (data, label=\"True\")\n",
    "plt.xlim(0, N_data)\n",
    "plt.legend()"
   ]
  },
  {
   "cell_type": "code",
   "execution_count": null,
   "metadata": {},
   "outputs": [
    {
     "ename": "IndexError",
     "evalue": "index 4 is out of bounds for axis 1 with size 1",
     "output_type": "error",
     "traceback": [
      "\u001b[1;31m---------------------------------------------------------------------------\u001b[0m",
      "\u001b[1;31mIndexError\u001b[0m                                Traceback (most recent call last)",
      "Cell \u001b[1;32mIn[40], line 1\u001b[0m\n\u001b[1;32m----> 1\u001b[0m Cd2 \u001b[38;5;241m=\u001b[39m \u001b[43my_pred\u001b[49m\u001b[43m[\u001b[49m\u001b[43m:\u001b[49m\u001b[43m,\u001b[49m\u001b[43m \u001b[49m\u001b[38;5;241;43m4\u001b[39;49m\u001b[43m]\u001b[49m\n\u001b[0;32m      2\u001b[0m Cd2\n",
      "\u001b[1;31mIndexError\u001b[0m: index 4 is out of bounds for axis 1 with size 1"
     ]
    }
   ],
   "source": [
    "Cd2 = y_pred[:, 4]\n",
    "Cd2"
   ]
  },
  {
   "cell_type": "code",
   "execution_count": 29,
   "metadata": {},
   "outputs": [
    {
     "ename": "KeyError",
     "evalue": "'Cd'",
     "output_type": "error",
     "traceback": [
      "\u001b[1;31m---------------------------------------------------------------------------\u001b[0m",
      "\u001b[1;31mKeyError\u001b[0m                                  Traceback (most recent call last)",
      "File \u001b[1;32mc:\\Python_Program\\.venv\\lib\\site-packages\\pandas\\core\\indexes\\base.py:3653\u001b[0m, in \u001b[0;36mIndex.get_loc\u001b[1;34m(self, key)\u001b[0m\n\u001b[0;32m   3652\u001b[0m \u001b[38;5;28;01mtry\u001b[39;00m:\n\u001b[1;32m-> 3653\u001b[0m     \u001b[38;5;28;01mreturn\u001b[39;00m \u001b[38;5;28;43mself\u001b[39;49m\u001b[38;5;241;43m.\u001b[39;49m\u001b[43m_engine\u001b[49m\u001b[38;5;241;43m.\u001b[39;49m\u001b[43mget_loc\u001b[49m\u001b[43m(\u001b[49m\u001b[43mcasted_key\u001b[49m\u001b[43m)\u001b[49m\n\u001b[0;32m   3654\u001b[0m \u001b[38;5;28;01mexcept\u001b[39;00m \u001b[38;5;167;01mKeyError\u001b[39;00m \u001b[38;5;28;01mas\u001b[39;00m err:\n",
      "File \u001b[1;32mc:\\Python_Program\\.venv\\lib\\site-packages\\pandas\\_libs\\index.pyx:147\u001b[0m, in \u001b[0;36mpandas._libs.index.IndexEngine.get_loc\u001b[1;34m()\u001b[0m\n",
      "File \u001b[1;32mc:\\Python_Program\\.venv\\lib\\site-packages\\pandas\\_libs\\index.pyx:176\u001b[0m, in \u001b[0;36mpandas._libs.index.IndexEngine.get_loc\u001b[1;34m()\u001b[0m\n",
      "File \u001b[1;32mpandas\\_libs\\hashtable_class_helper.pxi:7080\u001b[0m, in \u001b[0;36mpandas._libs.hashtable.PyObjectHashTable.get_item\u001b[1;34m()\u001b[0m\n",
      "File \u001b[1;32mpandas\\_libs\\hashtable_class_helper.pxi:7088\u001b[0m, in \u001b[0;36mpandas._libs.hashtable.PyObjectHashTable.get_item\u001b[1;34m()\u001b[0m\n",
      "\u001b[1;31mKeyError\u001b[0m: 'Cd'",
      "\nThe above exception was the direct cause of the following exception:\n",
      "\u001b[1;31mKeyError\u001b[0m                                  Traceback (most recent call last)",
      "Cell \u001b[1;32mIn[29], line 2\u001b[0m\n\u001b[0;32m      1\u001b[0m plt\u001b[38;5;241m.\u001b[39mfigure()\n\u001b[1;32m----> 2\u001b[0m plt\u001b[38;5;241m.\u001b[39mplot (\u001b[43mFLT_1\u001b[49m\u001b[43m[\u001b[49m\u001b[38;5;124;43m'\u001b[39;49m\u001b[38;5;124;43mCd\u001b[39;49m\u001b[38;5;124;43m'\u001b[39;49m\u001b[43m]\u001b[49m)\n\u001b[0;32m      3\u001b[0m plt\u001b[38;5;241m.\u001b[39mplot (Cd2)\n",
      "File \u001b[1;32mc:\\Python_Program\\.venv\\lib\\site-packages\\pandas\\core\\frame.py:3761\u001b[0m, in \u001b[0;36mDataFrame.__getitem__\u001b[1;34m(self, key)\u001b[0m\n\u001b[0;32m   3759\u001b[0m \u001b[38;5;28;01mif\u001b[39;00m \u001b[38;5;28mself\u001b[39m\u001b[38;5;241m.\u001b[39mcolumns\u001b[38;5;241m.\u001b[39mnlevels \u001b[38;5;241m>\u001b[39m \u001b[38;5;241m1\u001b[39m:\n\u001b[0;32m   3760\u001b[0m     \u001b[38;5;28;01mreturn\u001b[39;00m \u001b[38;5;28mself\u001b[39m\u001b[38;5;241m.\u001b[39m_getitem_multilevel(key)\n\u001b[1;32m-> 3761\u001b[0m indexer \u001b[38;5;241m=\u001b[39m \u001b[38;5;28;43mself\u001b[39;49m\u001b[38;5;241;43m.\u001b[39;49m\u001b[43mcolumns\u001b[49m\u001b[38;5;241;43m.\u001b[39;49m\u001b[43mget_loc\u001b[49m\u001b[43m(\u001b[49m\u001b[43mkey\u001b[49m\u001b[43m)\u001b[49m\n\u001b[0;32m   3762\u001b[0m \u001b[38;5;28;01mif\u001b[39;00m is_integer(indexer):\n\u001b[0;32m   3763\u001b[0m     indexer \u001b[38;5;241m=\u001b[39m [indexer]\n",
      "File \u001b[1;32mc:\\Python_Program\\.venv\\lib\\site-packages\\pandas\\core\\indexes\\base.py:3655\u001b[0m, in \u001b[0;36mIndex.get_loc\u001b[1;34m(self, key)\u001b[0m\n\u001b[0;32m   3653\u001b[0m     \u001b[38;5;28;01mreturn\u001b[39;00m \u001b[38;5;28mself\u001b[39m\u001b[38;5;241m.\u001b[39m_engine\u001b[38;5;241m.\u001b[39mget_loc(casted_key)\n\u001b[0;32m   3654\u001b[0m \u001b[38;5;28;01mexcept\u001b[39;00m \u001b[38;5;167;01mKeyError\u001b[39;00m \u001b[38;5;28;01mas\u001b[39;00m err:\n\u001b[1;32m-> 3655\u001b[0m     \u001b[38;5;28;01mraise\u001b[39;00m \u001b[38;5;167;01mKeyError\u001b[39;00m(key) \u001b[38;5;28;01mfrom\u001b[39;00m \u001b[38;5;21;01merr\u001b[39;00m\n\u001b[0;32m   3656\u001b[0m \u001b[38;5;28;01mexcept\u001b[39;00m \u001b[38;5;167;01mTypeError\u001b[39;00m:\n\u001b[0;32m   3657\u001b[0m     \u001b[38;5;66;03m# If we have a listlike key, _check_indexing_error will raise\u001b[39;00m\n\u001b[0;32m   3658\u001b[0m     \u001b[38;5;66;03m#  InvalidIndexError. Otherwise we fall through and re-raise\u001b[39;00m\n\u001b[0;32m   3659\u001b[0m     \u001b[38;5;66;03m#  the TypeError.\u001b[39;00m\n\u001b[0;32m   3660\u001b[0m     \u001b[38;5;28mself\u001b[39m\u001b[38;5;241m.\u001b[39m_check_indexing_error(key)\n",
      "\u001b[1;31mKeyError\u001b[0m: 'Cd'"
     ]
    },
    {
     "data": {
      "text/plain": [
       "<Figure size 640x480 with 0 Axes>"
      ]
     },
     "metadata": {},
     "output_type": "display_data"
    }
   ],
   "source": [
    "plt.figure()\n",
    "plt.plot (FLT_1['Cd'])\n",
    "plt.plot (Cd2)\n"
   ]
  }
 ],
 "metadata": {
  "kernelspec": {
   "display_name": "Python 3",
   "language": "python",
   "name": "python3"
  },
  "language_info": {
   "codemirror_mode": {
    "name": "ipython",
    "version": 3
   },
   "file_extension": ".py",
   "mimetype": "text/x-python",
   "name": "python",
   "nbconvert_exporter": "python",
   "pygments_lexer": "ipython3",
   "version": "3.8.8"
  }
 },
 "nbformat": 4,
 "nbformat_minor": 2
}
