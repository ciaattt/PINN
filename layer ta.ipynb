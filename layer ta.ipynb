{
 "cells": [
  {
   "cell_type": "code",
   "execution_count": null,
   "metadata": {},
   "outputs": [
    {
     "ename": "",
     "evalue": "",
     "output_type": "error",
     "traceback": [
      "\u001b[1;31mRunning cells with '.venv (Python 3.8.3)' requires the ipykernel package.\n",
      "\u001b[1;31mRun the following command to install 'ipykernel' into the Python environment. \n",
      "\u001b[1;31mCommand: 'c:/Python_Program/.venv/Scripts/python.exe -m pip install ipykernel -U --force-reinstall'"
     ]
    }
   ],
   "source": [
    "import matplotlib.pyplot as plt\n",
    "import tensorflow as tf\n",
    "import random"
   ]
  },
  {
   "cell_type": "code",
   "execution_count": null,
   "metadata": {},
   "outputs": [
    {
     "ename": "",
     "evalue": "",
     "output_type": "error",
     "traceback": [
      "\u001b[1;31mRunning cells with '.venv (Python 3.8.3)' requires the ipykernel package.\n",
      "\u001b[1;31mRun the following command to install 'ipykernel' into the Python environment. \n",
      "\u001b[1;31mCommand: 'c:/Python_Program/.venv/Scripts/python.exe -m pip install ipykernel -U --force-reinstall'"
     ]
    }
   ],
   "source": [
    "a = 2\n",
    "c = 3\n",
    "w_1 = 6\n",
    "B_1 = 4\n",
    "w_2 = 4\n",
    "B_2 = 2\n",
    "x_in = [0,1,2,3,4]"
   ]
  },
  {
   "cell_type": "code",
   "execution_count": null,
   "metadata": {},
   "outputs": [
    {
     "ename": "",
     "evalue": "",
     "output_type": "error",
     "traceback": [
      "\u001b[1;31mRunning cells with '.venv (Python 3.8.3)' requires the ipykernel package.\n",
      "\u001b[1;31mRun the following command to install 'ipykernel' into the Python environment. \n",
      "\u001b[1;31mCommand: 'c:/Python_Program/.venv/Scripts/python.exe -m pip install ipykernel -U --force-reinstall'"
     ]
    }
   ],
   "source": [
    "def y (a,c):\n",
    "\n",
    "    y_in = []\n",
    "    x_in\n",
    "\n",
    "    for x in x_in:\n",
    "        y_in.append (\n",
    "            a*x + c\n",
    "        )  \n",
    "\n",
    "    return x_in, y_in\n",
    "x_in, y_in = y(a,c)\n",
    "print (y_in)"
   ]
  },
  {
   "cell_type": "code",
   "execution_count": null,
   "metadata": {},
   "outputs": [
    {
     "ename": "",
     "evalue": "",
     "output_type": "error",
     "traceback": [
      "\u001b[1;31mRunning cells with '.venv (Python 3.8.3)' requires the ipykernel package.\n",
      "\u001b[1;31mRun the following command to install 'ipykernel' into the Python environment. \n",
      "\u001b[1;31mCommand: 'c:/Python_Program/.venv/Scripts/python.exe -m pip install ipykernel -U --force-reinstall'"
     ]
    }
   ],
   "source": [
    "def Y_1 (w_1, B_1):\n",
    "\n",
    "    Y_1p = []\n",
    "    x_in\n",
    "\n",
    "    for x in x_in:\n",
    "        Y_1p.append (\n",
    "            w_1*x + B_1\n",
    "        )\n",
    "    \n",
    "    return Y_1p\n",
    "\n",
    "print (x_in)\n",
    "print (Y_1p)\n",
    "\n"
   ]
  },
  {
   "cell_type": "code",
   "execution_count": null,
   "metadata": {},
   "outputs": [
    {
     "ename": "",
     "evalue": "",
     "output_type": "error",
     "traceback": [
      "\u001b[1;31mRunning cells with '.venv (Python 3.8.3)' requires the ipykernel package.\n",
      "\u001b[1;31mRun the following command to install 'ipykernel' into the Python environment. \n",
      "\u001b[1;31mCommand: 'c:/Python_Program/.venv/Scripts/python.exe -m pip install ipykernel -U --force-reinstall'"
     ]
    }
   ],
   "source": [
    "def Y_2 (w_2, B_2):\n",
    "\n",
    "    Y_2p = []\n",
    "    Y_1p\n",
    "\n",
    "    for x_in2 in Y_1p:\n",
    "        Y_2p.append (\n",
    "            w_2 * x_in2 + B_2\n",
    "        )\n",
    "        print (Y_2p)\n",
    "    return Y_1p, Y_2p\n"
   ]
  },
  {
   "cell_type": "code",
   "execution_count": null,
   "metadata": {},
   "outputs": [
    {
     "ename": "",
     "evalue": "",
     "output_type": "error",
     "traceback": [
      "\u001b[1;31mRunning cells with '.venv (Python 3.8.3)' requires the ipykernel package.\n",
      "\u001b[1;31mRun the following command to install 'ipykernel' into the Python environment. \n",
      "\u001b[1;31mCommand: 'c:/Python_Program/.venv/Scripts/python.exe -m pip install ipykernel -U --force-reinstall'"
     ]
    }
   ],
   "source": [
    "def dLdW_1 (w_1, B_1):\n",
    "\n",
    "    N = 5\n",
    "    sumdldw1 = 0\n",
    "    for N in range (N):\n",
    "        sumdldw1 += (-2/5)*(y_in[N-1] - w_1 * x_in[N-1] - B_1)*(x_in[N-1])\n",
    "    return sumdldw1\n",
    "print(x_in)\n",
    "sumdldw1 = dLdW_1(w_1,B_1)\n",
    "print (sumdldw1)\n",
    "\n"
   ]
  },
  {
   "cell_type": "code",
   "execution_count": null,
   "metadata": {},
   "outputs": [
    {
     "ename": "",
     "evalue": "",
     "output_type": "error",
     "traceback": [
      "\u001b[1;31mRunning cells with '.venv (Python 3.8.3)' requires the ipykernel package.\n",
      "\u001b[1;31mRun the following command to install 'ipykernel' into the Python environment. \n",
      "\u001b[1;31mCommand: 'c:/Python_Program/.venv/Scripts/python.exe -m pip install ipykernel -U --force-reinstall'"
     ]
    }
   ],
   "source": [
    "def dLdB_1 (w_1, B_1):\n",
    "\n",
    "    N = 5\n",
    "    sumdldb1 = 0\n",
    "    for N in range (N):\n",
    "        sumdldb1 += (-2/5)*(y_in[N-1] - w_1 * x_in[N-1] - B_1)\n",
    "    return sumdldb1\n",
    "print(x_in)\n",
    "sumdldb1 = dLdB_1(w_1,B_1)\n",
    "print (sumdldb1)\n",
    "\n"
   ]
  },
  {
   "cell_type": "code",
   "execution_count": null,
   "metadata": {},
   "outputs": [
    {
     "ename": "",
     "evalue": "",
     "output_type": "error",
     "traceback": [
      "\u001b[1;31mRunning cells with '.venv (Python 3.8.3)' requires the ipykernel package.\n",
      "\u001b[1;31mRun the following command to install 'ipykernel' into the Python environment. \n",
      "\u001b[1;31mCommand: 'c:/Python_Program/.venv/Scripts/python.exe -m pip install ipykernel -U --force-reinstall'"
     ]
    }
   ],
   "source": [
    "def w_1_renewment (w_1, B_1):\n",
    "\n",
    "    epochs = 9000\n",
    "    learning_rate = 0.001\n",
    "\n",
    "    for epochs in range (epochs):\n",
    "        w_1n = w_1 - learning_rate * dLdW_1(w_1, B_1)\n",
    "        B_1n = B_1 - learning_rate * dLdB_1(w_1, B_1)\n",
    "        w_1  = w_1n\n",
    "        B_1  = B_1n\n",
    "        print (w_1n)\n",
    "        print (B_1n)\n",
    "    return w_1n, B_1n\n",
    "w_1n = w_1_renewment (w_1,B_1)"
   ]
  }
 ],
 "metadata": {
  "kernelspec": {
   "display_name": "Python 3",
   "language": "python",
   "name": "python3"
  },
  "language_info": {
   "codemirror_mode": {
    "name": "ipython",
    "version": 3
   },
   "file_extension": ".py",
   "mimetype": "text/x-python",
   "name": "python",
   "nbconvert_exporter": "python",
   "pygments_lexer": "ipython3",
   "version": "3.8.8"
  }
 },
 "nbformat": 4,
 "nbformat_minor": 2
}
